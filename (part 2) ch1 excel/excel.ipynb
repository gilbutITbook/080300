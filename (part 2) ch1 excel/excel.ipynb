{
 "cells": [
  {
   "cell_type": "code",
   "execution_count": 20,
   "id": "db055ee8-884a-4241-9b7c-5c3ee88aa1d7",
   "metadata": {},
   "outputs": [],
   "source": [
    "import openpyxl\n",
    "from openpyxl import Workbook \n",
    "import glob\n",
    "\n",
    "# 현재 디렉터리에 있는 모든 엑셀 파일 불러오기\n",
    "files = []\n",
    "files = glob.glob(\"*.xlsx\")\n",
    "people = []\n",
    "\n",
    "# 불러온 엑셀 파일의 내용을 읽어서 저장\n",
    "for excel in files:\n",
    "    \n",
    "    wb = openpyxl.load_workbook(excel)\n",
    "    ws = wb.active\n",
    "\n",
    "    for i in range(3, ws.max_row+1):\n",
    "        v1 = ws[\"A\"+str(i)].value\n",
    "        v2 = ws[\"B\"+str(i)].value\n",
    "        v3 = ws[\"C\"+str(i)].value\n",
    "\n",
    "        if v1 != None:\n",
    "            people.append(v1)\n",
    "            people.append(v2)\n",
    "            people.append(v3)\n",
    "\n",
    "# 새로운 워크북 생성\n",
    "new_wb = Workbook() \n",
    "new_ws = new_wb.acitve  \n",
    "\n",
    "# 워크북에 저장된 데이터 뿌려주기\n",
    "for i in range(1, (len(people)//3)+1):\n",
    "    new_ws['A'+str(i)] = people.pop(0)\n",
    "    new_ws['B'+str(i)] = people.pop(0)\n",
    "    new_ws['C'+str(i)] = people.pop(0)\n",
    "\n",
    "# 새로운 폴더에 새로운 파일로 저장\n",
    "new_wb.save('result/final.xlsx\") \n",
    "\n"
   ]
  },
  {
   "cell_type": "code",
   "execution_count": null,
   "id": "1dfc0438-35a2-4da3-89ac-2b43da7a1050",
   "metadata": {},
   "outputs": [],
   "source": []
  },
  {
   "cell_type": "code",
   "execution_count": null,
   "id": "faf8c114-d238-47db-9da4-71534ffd964d",
   "metadata": {},
   "outputs": [],
   "source": []
  }
 ],
 "metadata": {
  "kernelspec": {
   "display_name": "Python 3 (ipykernel)",
   "language": "python",
   "name": "python3"
  },
  "language_info": {
   "codemirror_mode": {
    "name": "ipython",
    "version": 3
   },
   "file_extension": ".py",
   "mimetype": "text/x-python",
   "name": "python",
   "nbconvert_exporter": "python",
   "pygments_lexer": "ipython3",
   "version": "3.9.13"
  }
 },
 "nbformat": 4,
 "nbformat_minor": 5
}
