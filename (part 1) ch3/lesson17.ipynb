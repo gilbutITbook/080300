{
 "cells": [
  {
   "cell_type": "code",
   "execution_count": 1,
   "id": "f91dbf77-2a8d-4018-90c7-123fb9bf24df",
   "metadata": {},
   "outputs": [
    {
     "data": {
      "text/plain": [
       "tuple"
      ]
     },
     "execution_count": 1,
     "metadata": {},
     "output_type": "execute_result"
    }
   ],
   "source": [
    "tu = (1, 2, 3) \n",
    "\n",
    "type(tu)"
   ]
  },
  {
   "cell_type": "code",
   "execution_count": 2,
   "id": "13d69141-346e-4634-8f4a-a8d99c5062f7",
   "metadata": {},
   "outputs": [
    {
     "data": {
      "text/plain": [
       "1"
      ]
     },
     "execution_count": 2,
     "metadata": {},
     "output_type": "execute_result"
    }
   ],
   "source": [
    "tu = (1, 2, 3) \n",
    "\n",
    "tu[0]"
   ]
  },
  {
   "cell_type": "code",
   "execution_count": 3,
   "id": "21a1f501-c5be-42d7-a71d-7caa1bba7da9",
   "metadata": {},
   "outputs": [
    {
     "data": {
      "text/plain": [
       "int"
      ]
     },
     "execution_count": 3,
     "metadata": {},
     "output_type": "execute_result"
    }
   ],
   "source": [
    "tu = (1) \n",
    "\n",
    "type(tu)"
   ]
  },
  {
   "cell_type": "code",
   "execution_count": 4,
   "id": "436b5ebc-16e8-4d56-964e-03d74a6a5f1e",
   "metadata": {},
   "outputs": [
    {
     "data": {
      "text/plain": [
       "tuple"
      ]
     },
     "execution_count": 4,
     "metadata": {},
     "output_type": "execute_result"
    }
   ],
   "source": [
    "tu = (1,) \n",
    "\n",
    "type(tu)"
   ]
  },
  {
   "cell_type": "code",
   "execution_count": 5,
   "id": "86f8aa1f-225a-4e23-a591-fbfafc021e7b",
   "metadata": {},
   "outputs": [
    {
     "name": "stdout",
     "output_type": "stream",
     "text": [
      "(30, 'hello')\n"
     ]
    }
   ],
   "source": [
    "tu = (30, 'hello') \n",
    "\n",
    "print(tu)"
   ]
  },
  {
   "cell_type": "code",
   "execution_count": 6,
   "id": "e12992b2-b142-42d8-98f1-e0c97d0b4c83",
   "metadata": {},
   "outputs": [
    {
     "name": "stdout",
     "output_type": "stream",
     "text": [
      "(30, 'hello', 'gunny', 'python')\n"
     ]
    }
   ],
   "source": [
    "tu1 = (30, 'hello') \n",
    "tu2 = ('gunny', 'python')\n",
    "\n",
    "tu3 = tu1 + tu2\n",
    "print(tu3)"
   ]
  },
  {
   "cell_type": "code",
   "execution_count": 7,
   "id": "88475ccd-e638-4b86-ba07-d54c86134f0e",
   "metadata": {},
   "outputs": [
    {
     "name": "stdout",
     "output_type": "stream",
     "text": [
      "[30, 'hello']\n"
     ]
    }
   ],
   "source": [
    "tu1 = (30, 'hello')\n",
    "\n",
    "li = list(tu1)\n",
    "\n",
    "print(li)"
   ]
  },
  {
   "cell_type": "code",
   "execution_count": 8,
   "id": "fd3f0267-4ab5-40a7-bd90-86d7397bc9ed",
   "metadata": {},
   "outputs": [
    {
     "name": "stdout",
     "output_type": "stream",
     "text": [
      "(30, 'hello', 5)\n"
     ]
    }
   ],
   "source": [
    "tu1 = (30, 'hello')\n",
    "\n",
    "li = list(tu1)\n",
    "li.append(5)\n",
    "\n",
    "tu1 = tuple(li)\n",
    "print(tu1)"
   ]
  },
  {
   "cell_type": "code",
   "execution_count": 9,
   "id": "0ff0e3bf-daa0-432f-b18a-af77fc5db705",
   "metadata": {},
   "outputs": [
    {
     "name": "stdout",
     "output_type": "stream",
     "text": [
      "True\n"
     ]
    }
   ],
   "source": [
    "tu1 = (30, 'hello')\n",
    "\n",
    "print(30 in tu1)"
   ]
  },
  {
   "cell_type": "code",
   "execution_count": 10,
   "id": "dec03fa4-8771-4286-abed-100942a1e8aa",
   "metadata": {},
   "outputs": [
    {
     "name": "stdout",
     "output_type": "stream",
     "text": [
      "10\n"
     ]
    }
   ],
   "source": [
    "tu1 = (30, 40, 40, 20, 10)\n",
    "\n",
    "print(min(tu1))"
   ]
  },
  {
   "cell_type": "code",
   "execution_count": 11,
   "id": "d1c359cc-0e0c-4712-9fe8-a58cd2a9e27b",
   "metadata": {},
   "outputs": [
    {
     "name": "stdout",
     "output_type": "stream",
     "text": [
      "5\n"
     ]
    }
   ],
   "source": [
    "tu1 = (30, 40, 40, 20, 10)\n",
    "\n",
    "print(len(tu1))"
   ]
  },
  {
   "cell_type": "code",
   "execution_count": 12,
   "id": "8dda57fb-62ca-4791-9a09-ad089abe775e",
   "metadata": {},
   "outputs": [
    {
     "name": "stdout",
     "output_type": "stream",
     "text": [
      "30\n",
      "40\n",
      "40\n",
      "20\n",
      "10\n"
     ]
    }
   ],
   "source": [
    "tu1 = (30, 40, 40, 20, 10)\n",
    "\n",
    "for i in range(len(tu1)):\n",
    "    print(tu1[i])"
   ]
  },
  {
   "cell_type": "code",
   "execution_count": 13,
   "id": "f6a14c69-5801-4fd6-9462-5547d7e56ea7",
   "metadata": {},
   "outputs": [
    {
     "name": "stdout",
     "output_type": "stream",
     "text": [
      "30\n",
      "40\n",
      "40\n",
      "20\n",
      "10\n"
     ]
    }
   ],
   "source": [
    "tu1 = (30, 40, 40, 20, 10)\n",
    "\n",
    "for i in tu1:\n",
    "    print(i)"
   ]
  },
  {
   "cell_type": "code",
   "execution_count": 14,
   "id": "6df3c533-e1a3-4037-b633-5901ebdc9173",
   "metadata": {},
   "outputs": [
    {
     "name": "stdout",
     "output_type": "stream",
     "text": [
      "3\n"
     ]
    }
   ],
   "source": [
    "tu1 = (30, 40, 40, 20, 10)\n",
    "\n",
    "print(tu1.index(20))"
   ]
  },
  {
   "cell_type": "code",
   "execution_count": null,
   "id": "a1560f11-e0c8-443c-b15c-3460e2fd3f6a",
   "metadata": {},
   "outputs": [],
   "source": []
  },
  {
   "cell_type": "code",
   "execution_count": null,
   "id": "ed012cfb-3905-46e3-8eaf-e1037b507463",
   "metadata": {},
   "outputs": [],
   "source": []
  }
 ],
 "metadata": {
  "kernelspec": {
   "display_name": "Python 3 (ipykernel)",
   "language": "python",
   "name": "python3"
  },
  "language_info": {
   "codemirror_mode": {
    "name": "ipython",
    "version": 3
   },
   "file_extension": ".py",
   "mimetype": "text/x-python",
   "name": "python",
   "nbconvert_exporter": "python",
   "pygments_lexer": "ipython3",
   "version": "3.9.13"
  }
 },
 "nbformat": 4,
 "nbformat_minor": 5
}
