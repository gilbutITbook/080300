{
 "cells": [
  {
   "cell_type": "code",
   "execution_count": 1,
   "id": "bc6e00e8-5355-4712-bf41-0065bda5b11a",
   "metadata": {},
   "outputs": [
    {
     "name": "stdout",
     "output_type": "stream",
     "text": [
      "[0, 1, 2, 3, 4] [5, 6, 7, 8, 9]\n"
     ]
    }
   ],
   "source": [
    "li1 = list(range(5))\n",
    "li2 = list(range(5, 10))\n",
    "\n",
    "print(li1, li2)"
   ]
  },
  {
   "cell_type": "code",
   "execution_count": 2,
   "id": "f2680e2b-5ab7-4a44-9d61-8137060e5c01",
   "metadata": {},
   "outputs": [
    {
     "name": "stdout",
     "output_type": "stream",
     "text": [
      "[0, 1, 2, 3, 4, 5, 6, 7, 8, 9]\n"
     ]
    }
   ],
   "source": [
    "li1 = list(range(5))\n",
    "li2 = list(range(5, 10))\n",
    "\n",
    "print(li1 + li2)"
   ]
  },
  {
   "cell_type": "code",
   "execution_count": 3,
   "id": "1dbc8422-5993-4bab-ae2e-ec71cc395d54",
   "metadata": {},
   "outputs": [
    {
     "name": "stdout",
     "output_type": "stream",
     "text": [
      "[0, 1, 2, 3, 4, 5, 6, 7, 8, 9]\n"
     ]
    }
   ],
   "source": [
    "li1 = list(range(5))\n",
    "li2 = list(range(5, 10))\n",
    "\n",
    "li3 = li1 + li2 \n",
    "print(li3)"
   ]
  },
  {
   "cell_type": "code",
   "execution_count": 4,
   "id": "226b7bd8-da78-4096-9270-0c4cfa10b9ec",
   "metadata": {},
   "outputs": [
    {
     "name": "stdout",
     "output_type": "stream",
     "text": [
      "[0, 1, 2, 3, 4, 0, 1, 2, 3, 4]\n"
     ]
    }
   ],
   "source": [
    "li1 = list(range(5))\n",
    "li2 = list(range(5, 10))\n",
    "\n",
    "li3 = li1 * 2\n",
    "print(li3)"
   ]
  },
  {
   "cell_type": "code",
   "execution_count": 5,
   "id": "96a79150-fc2a-4ec7-b703-f1cc87f491a9",
   "metadata": {},
   "outputs": [
    {
     "name": "stdout",
     "output_type": "stream",
     "text": [
      "0\n"
     ]
    }
   ],
   "source": [
    "li1 = list(range(5))\n",
    "li2 = list(range(5, 10))\n",
    "\n",
    "li3 = li1 * 2\n",
    "print(li3[5])"
   ]
  },
  {
   "cell_type": "code",
   "execution_count": 6,
   "id": "aeff95e3-5dc5-4c78-b180-aa76315fbdbc",
   "metadata": {},
   "outputs": [
    {
     "name": "stdout",
     "output_type": "stream",
     "text": [
      "['h', 'e', 'l', 'l', 'o']\n"
     ]
    }
   ],
   "source": [
    "li1 = list(\"hello\")\n",
    "\n",
    "print(li1)"
   ]
  },
  {
   "cell_type": "code",
   "execution_count": 7,
   "id": "2f9cdacd-adbc-42e7-8573-5872a1010362",
   "metadata": {},
   "outputs": [
    {
     "name": "stdout",
     "output_type": "stream",
     "text": [
      "10\n"
     ]
    }
   ],
   "source": [
    "# li1 = (0, 1, 2, 3, 4)\n",
    "li1 = list(range(5))  \n",
    "\n",
    "# li2 = (5, 6, 7, 8, 9)\n",
    "li2 = list(range(5, 10))\n",
    "\n",
    "# li3 = [0, 1, 2, 3, 4, 5, 6, 7, 8, 9]\n",
    "li3 = li1 + li2\n",
    "print(len(li3))"
   ]
  },
  {
   "cell_type": "code",
   "execution_count": 8,
   "id": "33839437-7d16-4305-8f56-a09e47b83f76",
   "metadata": {},
   "outputs": [
    {
     "name": "stdout",
     "output_type": "stream",
     "text": [
      "True\n",
      "False\n"
     ]
    }
   ],
   "source": [
    "# li1 = (0, 1, 2, 3, 4)\n",
    "li1 = list(range(5))  \n",
    "\n",
    "# li2 = (5, 6, 7, 8, 9)\n",
    "li2 = list(range(5,10))\n",
    "\n",
    "# li3 = [0, 1, 2, 3, 4, 5, 6, 7, 8, 9]\n",
    "li3 = li1 + li2\n",
    "print(5 in li3)\n",
    "print(10 in li3)"
   ]
  },
  {
   "cell_type": "code",
   "execution_count": 9,
   "id": "3f3ff724-bc19-4fbd-9af3-14318b7a9a10",
   "metadata": {},
   "outputs": [
    {
     "name": "stdout",
     "output_type": "stream",
     "text": [
      "True\n"
     ]
    }
   ],
   "source": [
    "li1 = list(range(5))\n",
    "li2 = list(range(5, 10))\n",
    "\n",
    "li3 = li1 + li2\n",
    "print(10 not in li3)"
   ]
  },
  {
   "cell_type": "code",
   "execution_count": 10,
   "id": "2dcaff6e-988a-4abb-8dc9-ed94188298bd",
   "metadata": {},
   "outputs": [
    {
     "name": "stdout",
     "output_type": "stream",
     "text": [
      "[2, 3, 4, 5, 6, 7, 8, 9]\n"
     ]
    }
   ],
   "source": [
    "li1 = list(range(5))\n",
    "li2 = list(range(5, 10))\n",
    "\n",
    "li3 = li1 + li2\n",
    "\n",
    "del li3[:2]\n",
    "print(li3)"
   ]
  },
  {
   "cell_type": "code",
   "execution_count": 11,
   "id": "e772038f-2b46-494d-94fa-927fef51d2e5",
   "metadata": {},
   "outputs": [
    {
     "name": "stdout",
     "output_type": "stream",
     "text": [
      "[0, 1, 2, 3, 4, 5, 6, 7, 8, 9]\n",
      "0\n",
      "9\n"
     ]
    }
   ],
   "source": [
    "li1 = list(range(5))\n",
    "li2 = list(range(5, 10))\n",
    "\n",
    "li3 = li1 + li2\n",
    "\n",
    "print(li3)\n",
    "print(min(li3))\n",
    "print(max(li3))"
   ]
  },
  {
   "cell_type": "code",
   "execution_count": 12,
   "id": "234853de-0179-42f4-baf4-9bc88f3e9857",
   "metadata": {},
   "outputs": [
    {
     "name": "stdout",
     "output_type": "stream",
     "text": [
      "[0, 1, 2, 3, 4, 5, 6, 7, 8, 9]\n",
      "[0, 1, 2, 3, 4, 5, 6, 7, 8, 9, 10]\n"
     ]
    }
   ],
   "source": [
    "li1 = list(range(5))\n",
    "li2 = list(range(5, 10))\n",
    "\n",
    "li3 = li1 + li2\n",
    "print(li3)\n",
    "\n",
    "li3.append(10)\n",
    "print(li3)"
   ]
  },
  {
   "cell_type": "code",
   "execution_count": 13,
   "id": "520226c3-54b8-49d5-9891-8899b4835633",
   "metadata": {},
   "outputs": [
    {
     "name": "stdout",
     "output_type": "stream",
     "text": [
      "[0, 1, 2, 3, 4, 5, 6, 7, 8, 9]\n",
      "[]\n"
     ]
    }
   ],
   "source": [
    "li1 = list(range(5))\n",
    "li2 = list(range(5, 10))\n",
    "\n",
    "li3 = li1 + li2\n",
    "print(li3)\n",
    "\n",
    "li3.clear()\n",
    "print(li3)"
   ]
  },
  {
   "cell_type": "code",
   "execution_count": 14,
   "id": "6181d5e9-302e-4909-a7ac-1654b97aabd4",
   "metadata": {},
   "outputs": [
    {
     "name": "stdout",
     "output_type": "stream",
     "text": [
      "[0, 1, 2, 3, 4]\n"
     ]
    }
   ],
   "source": [
    "li1 = list(range(5))\n",
    "li2 = list(range(5, 10))\n",
    "\n",
    "li2 = li1.copy()\n",
    "print(li2)"
   ]
  },
  {
   "cell_type": "code",
   "execution_count": 15,
   "id": "7f5aef14-184c-4d48-aa5e-d765c3890416",
   "metadata": {},
   "outputs": [
    {
     "name": "stdout",
     "output_type": "stream",
     "text": [
      "[1, 2, 3, 4]\n"
     ]
    }
   ],
   "source": [
    "old_list = [1, 2, 3]\n",
    "new_list = old_list\n",
    "\n",
    "old_list.append(4)\n",
    "print(new_list)"
   ]
  },
  {
   "cell_type": "code",
   "execution_count": 16,
   "id": "609dcc18-17d4-4fc7-8dea-4b6dc04f4a54",
   "metadata": {},
   "outputs": [
    {
     "name": "stdout",
     "output_type": "stream",
     "text": [
      "[1, 2, 3]\n"
     ]
    }
   ],
   "source": [
    "old_list = [1, 2, 3]\n",
    "new_list = old_list.copy()\n",
    "\n",
    "old_list.append(4)\n",
    "print(new_list)"
   ]
  },
  {
   "cell_type": "code",
   "execution_count": 17,
   "id": "8158a457-4dac-4136-9d50-411757422c37",
   "metadata": {},
   "outputs": [
    {
     "name": "stdout",
     "output_type": "stream",
     "text": [
      "[0, 1, 2, 3, 4, 5, 6, 7, 8, 9]\n"
     ]
    },
    {
     "data": {
      "text/plain": [
       "0"
      ]
     },
     "execution_count": 17,
     "metadata": {},
     "output_type": "execute_result"
    }
   ],
   "source": [
    "li1 = list(range(5))\n",
    "li2 = list(range(5, 10))\n",
    "\n",
    "li3 = li1 + li2\n",
    "print(li3)\n",
    "\n",
    "li3.count(10)"
   ]
  },
  {
   "cell_type": "code",
   "execution_count": 18,
   "id": "24648377-f3c1-4e5b-955d-939788871170",
   "metadata": {},
   "outputs": [
    {
     "name": "stdout",
     "output_type": "stream",
     "text": [
      "[0, 1, 2, 3, 4, 5, 6, 7, 8, 9]\n",
      "[0, 1, 2, 3, 4, 5, 6, 7, 8, 9, 0, 1, 2, 3, 4]\n"
     ]
    }
   ],
   "source": [
    "li1 = list(range(5))\n",
    "li2 = list(range(5, 10))\n",
    "\n",
    "li3 = li1 + li2\n",
    "print(li3)\n",
    "\n",
    "li3.extend(li1)\n",
    "print(li3)"
   ]
  },
  {
   "cell_type": "code",
   "execution_count": 19,
   "id": "2f0afefd-4286-4feb-82e2-f7f9825cfe2f",
   "metadata": {},
   "outputs": [
    {
     "name": "stdout",
     "output_type": "stream",
     "text": [
      "[0, 1, 2, 3, 4, 5, 6, 7, 8, 9]\n",
      "[0, 1, 2, 3, 4, 5, 6, 7, 8, 9, 'h', 'e', 'l', 'l', 'o']\n"
     ]
    },
    {
     "data": {
      "text/plain": [
       "10"
      ]
     },
     "execution_count": 19,
     "metadata": {},
     "output_type": "execute_result"
    }
   ],
   "source": [
    "li1 = list(range(5))\n",
    "li2 = list(range(5, 10))\n",
    "\n",
    "li3 = li1 + li2\n",
    "print(li3)\n",
    "\n",
    "li3.extend(\"hello\")\n",
    "print(li3)\n",
    "\n",
    "li3.index('h')"
   ]
  },
  {
   "cell_type": "code",
   "execution_count": 20,
   "id": "91bd457b-1ccf-4372-8464-66e049053fd5",
   "metadata": {},
   "outputs": [
    {
     "name": "stdout",
     "output_type": "stream",
     "text": [
      "[0, 1, 2, 3, 4, 5, 6, 7, 8, 9]\n",
      "[0, 1, 2, 'hello', 3, 4, 5, 6, 7, 8, 9]\n"
     ]
    }
   ],
   "source": [
    "li1 = list(range(5))\n",
    "li2 = list(range(5, 10))\n",
    "\n",
    "li3 = li1 + li2\n",
    "print(li3)\n",
    "\n",
    "li3.insert(3, \"hello\")\n",
    "print(li3)"
   ]
  },
  {
   "cell_type": "code",
   "execution_count": 21,
   "id": "caf38218-fe31-419d-ac74-7f826879324c",
   "metadata": {},
   "outputs": [
    {
     "name": "stdout",
     "output_type": "stream",
     "text": [
      "['h', 'e', 'l', 'l', 'o']\n",
      "['h', 'e', 'l', 'o']\n"
     ]
    }
   ],
   "source": [
    "li1 = list(\"hello\")\n",
    "print(li1)\n",
    "\n",
    "li1.remove('l')\n",
    "print(li1)"
   ]
  },
  {
   "cell_type": "code",
   "execution_count": 22,
   "id": "28fdb4ac-ec21-4225-b467-5db7befa4a35",
   "metadata": {},
   "outputs": [
    {
     "name": "stdout",
     "output_type": "stream",
     "text": [
      "['h', 'e', 'l', 'l', 'o']\n",
      "['h', 'e', 'l', 'o']\n",
      "['h', 'e', 'l']\n"
     ]
    }
   ],
   "source": [
    "li1 = list(\"hello\")\n",
    "print(li1)\n",
    "\n",
    "li1.pop(2)\n",
    "print(li1)\n",
    "\n",
    "li1.pop()\n",
    "print(li1)"
   ]
  },
  {
   "cell_type": "code",
   "execution_count": 23,
   "id": "a4879c3c-29c4-48b4-b2ac-974204195cd6",
   "metadata": {},
   "outputs": [
    {
     "name": "stdout",
     "output_type": "stream",
     "text": [
      "['h', 'e', 'l', 'l', 'o']\n",
      "['h', 'e', 'l', 'o']\n",
      "None\n",
      "['e', 'l', 'o']\n",
      "h\n"
     ]
    }
   ],
   "source": [
    "li1 = list(\"hello\")\n",
    "print(li1)\n",
    "\n",
    "rv = li1.remove('l')\n",
    "print(li1)\n",
    "print(rv)\n",
    "\n",
    "pv = li1.pop(0)\n",
    "print(li1)\n",
    "print(pv)"
   ]
  },
  {
   "cell_type": "code",
   "execution_count": 24,
   "id": "b1768c9b-f6ca-43fa-93fa-4bb3e01bc137",
   "metadata": {},
   "outputs": [
    {
     "name": "stdout",
     "output_type": "stream",
     "text": [
      "[0, 1, 2, 3, 4, 5, 6, 7, 8, 9]\n",
      "[9, 8, 7, 6, 5, 4, 3, 2, 1, 0]\n"
     ]
    }
   ],
   "source": [
    "li1 = list(range(5))\n",
    "li2 = list(range(5, 10))\n",
    "\n",
    "li3 = li1 + li2\n",
    "print(li3)\n",
    "\n",
    "li3.reverse()\n",
    "print(li3)"
   ]
  },
  {
   "cell_type": "code",
   "execution_count": 25,
   "id": "fdb4e9ec-278f-42a6-bdf0-dd3bfc71b779",
   "metadata": {},
   "outputs": [
    {
     "name": "stdout",
     "output_type": "stream",
     "text": [
      "[1, 2, 4, 32, 34, 34, 64]\n"
     ]
    }
   ],
   "source": [
    "li1 = [2, 32, 4, 34, 64, 34, 1]\n",
    "\n",
    "li1.sort()\n",
    "print(li1)"
   ]
  },
  {
   "cell_type": "code",
   "execution_count": 26,
   "id": "79140809-cc90-4fe3-9ed8-3571f59ccfe0",
   "metadata": {},
   "outputs": [
    {
     "name": "stdout",
     "output_type": "stream",
     "text": [
      "[64, 34, 34, 32, 4, 2, 1]\n"
     ]
    }
   ],
   "source": [
    "li1 = [2, 32, 4, 34, 64, 34, 1]\n",
    "\n",
    "li1.sort(reverse=True)\n",
    "print(li1)"
   ]
  },
  {
   "cell_type": "code",
   "execution_count": 27,
   "id": "24145b99-ec94-4d2c-9819-29f5fd79119c",
   "metadata": {},
   "outputs": [
    {
     "name": "stdout",
     "output_type": "stream",
     "text": [
      "['hi', 'gun', 'hello', 'python', 'gunnnnnyy']\n"
     ]
    }
   ],
   "source": [
    "def fnc(ch):\n",
    "    return len(ch)\n",
    "li1 = ['hello', 'hi', 'gun', 'python', 'gunnnnnyy']\n",
    "\n",
    "li1.sort(key=fnc)\n",
    "print(li1)"
   ]
  },
  {
   "cell_type": "code",
   "execution_count": null,
   "id": "d27a1ea9-5986-461b-8f31-f9aa77a24f1e",
   "metadata": {},
   "outputs": [],
   "source": []
  }
 ],
 "metadata": {
  "kernelspec": {
   "display_name": "Python 3 (ipykernel)",
   "language": "python",
   "name": "python3"
  },
  "language_info": {
   "codemirror_mode": {
    "name": "ipython",
    "version": 3
   },
   "file_extension": ".py",
   "mimetype": "text/x-python",
   "name": "python",
   "nbconvert_exporter": "python",
   "pygments_lexer": "ipython3",
   "version": "3.9.13"
  }
 },
 "nbformat": 4,
 "nbformat_minor": 5
}
