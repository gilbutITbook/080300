{
 "cells": [
  {
   "cell_type": "code",
   "execution_count": 2,
   "id": "73da1504-ed69-4a1e-9b0d-9e8257b40f78",
   "metadata": {},
   "outputs": [
    {
     "data": {
      "text/plain": [
       "'g'"
      ]
     },
     "execution_count": 2,
     "metadata": {},
     "output_type": "execute_result"
    }
   ],
   "source": [
    "a = \"gunnypython\"\n",
    "a[0] "
   ]
  },
  {
   "cell_type": "code",
   "execution_count": 3,
   "id": "c396dd33-d77f-49a1-8811-51ad31b55199",
   "metadata": {},
   "outputs": [
    {
     "name": "stdout",
     "output_type": "stream",
     "text": [
      "True\n"
     ]
    }
   ],
   "source": [
    "a = \"gunnypython\"\n",
    "print('g' in a)"
   ]
  },
  {
   "cell_type": "code",
   "execution_count": 4,
   "id": "debffedd-2c7c-43c9-b701-b45e27d148bd",
   "metadata": {},
   "outputs": [
    {
     "name": "stdout",
     "output_type": "stream",
     "text": [
      "Gunnypython\n"
     ]
    }
   ],
   "source": [
    "a = \"gunnypython\"\n",
    "print(a.capitalize())"
   ]
  },
  {
   "cell_type": "code",
   "execution_count": 5,
   "id": "fc8a9eab-9ff2-4225-bf65-5f1a73f7e88d",
   "metadata": {},
   "outputs": [
    {
     "name": "stdout",
     "output_type": "stream",
     "text": [
      "gunnypython\n"
     ]
    }
   ],
   "source": [
    "a = \"GUNNYPYTHON\"\n",
    "print(a.casefold())"
   ]
  },
  {
   "cell_type": "code",
   "execution_count": 6,
   "id": "0d2833f1-bb08-4aee-8a04-e8a20d8af109",
   "metadata": {},
   "outputs": [
    {
     "name": "stdout",
     "output_type": "stream",
     "text": [
      "True\n"
     ]
    }
   ],
   "source": [
    "a = \"gunnypython\"\n",
    "print(a.endswith('n'))"
   ]
  },
  {
   "cell_type": "code",
   "execution_count": 7,
   "id": "2b331b5b-b5ba-4c37-806e-80274fcfa702",
   "metadata": {},
   "outputs": [
    {
     "name": "stdout",
     "output_type": "stream",
     "text": [
      "['gunny', 'coding']\n"
     ]
    }
   ],
   "source": [
    "st = \"gunny coding\"\n",
    "print(st.split(' '))"
   ]
  },
  {
   "cell_type": "code",
   "execution_count": null,
   "id": "34f0a77a-d0fd-453a-b1a4-d5bcea27b27d",
   "metadata": {},
   "outputs": [],
   "source": []
  },
  {
   "cell_type": "code",
   "execution_count": null,
   "id": "c5eece3f-0aa4-49ed-80c8-1b8fe7266b58",
   "metadata": {},
   "outputs": [],
   "source": []
  }
 ],
 "metadata": {
  "kernelspec": {
   "display_name": "Python 3 (ipykernel)",
   "language": "python",
   "name": "python3"
  },
  "language_info": {
   "codemirror_mode": {
    "name": "ipython",
    "version": 3
   },
   "file_extension": ".py",
   "mimetype": "text/x-python",
   "name": "python",
   "nbconvert_exporter": "python",
   "pygments_lexer": "ipython3",
   "version": "3.9.13"
  }
 },
 "nbformat": 4,
 "nbformat_minor": 5
}
