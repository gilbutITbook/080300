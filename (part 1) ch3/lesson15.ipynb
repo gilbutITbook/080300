{
 "cells": [
  {
   "cell_type": "code",
   "execution_count": 1,
   "id": "d6f84279-55b4-4a63-8704-1559aea167aa",
   "metadata": {},
   "outputs": [
    {
     "name": "stdout",
     "output_type": "stream",
     "text": [
      "<class 'list'> <class 'list'> <class 'list'> <class 'list'>\n"
     ]
    }
   ],
   "source": [
    "a = [1, 2, 3]\n",
    "b = [1, 2, 'algorithm', 'together']\n",
    "c = [True, 3.2, 'hello', 9] \n",
    "d = [] \n",
    "\n",
    "print(type(a), type(b), type(c), type(d))"
   ]
  },
  {
   "cell_type": "code",
   "execution_count": 2,
   "id": "4f7516c3-877e-45b3-b9e9-84638afe8c21",
   "metadata": {},
   "outputs": [
    {
     "name": "stdout",
     "output_type": "stream",
     "text": [
      "1\n"
     ]
    }
   ],
   "source": [
    "a = [1, 2, 3]\n",
    "print(a[0])"
   ]
  },
  {
   "cell_type": "code",
   "execution_count": 3,
   "id": "e2cbfbb7-c5f8-4455-9c4a-c3b039f582f2",
   "metadata": {},
   "outputs": [
    {
     "name": "stdout",
     "output_type": "stream",
     "text": [
      "['g', 'u', 'n', 'n', 'y', 'p', 'y', 't', 'h', 'o', 'n']\n"
     ]
    }
   ],
   "source": [
    "st = \"gunnypython\"\n",
    "li = list(st)\n",
    "print(li)"
   ]
  },
  {
   "cell_type": "code",
   "execution_count": 4,
   "id": "bd638871-583f-48d5-a2fc-fba0bdf4fa62",
   "metadata": {},
   "outputs": [
    {
     "name": "stdout",
     "output_type": "stream",
     "text": [
      "[0, 1, 2, 3, 4, 5, 6, 7, 8, 9]\n"
     ]
    }
   ],
   "source": [
    "li = list(range(10))\n",
    "print(li)"
   ]
  },
  {
   "cell_type": "code",
   "execution_count": 5,
   "id": "05175190-3977-432f-bbc3-2fc9b5973efe",
   "metadata": {},
   "outputs": [
    {
     "name": "stdout",
     "output_type": "stream",
     "text": [
      "['it', 'is', 'good', 'day', 'to', 'code']\n"
     ]
    }
   ],
   "source": [
    "st = \"it is good day to code\"\n",
    "li = st.split(' ')\n",
    "print(li)"
   ]
  },
  {
   "cell_type": "code",
   "execution_count": 6,
   "id": "940af123-3bce-40d3-b9d6-d3e04960dd05",
   "metadata": {},
   "outputs": [
    {
     "name": "stdout",
     "output_type": "stream",
     "text": [
      "it\n",
      "is\n",
      "good\n",
      "day\n",
      "to\n",
      "code\n"
     ]
    }
   ],
   "source": [
    "st = \"it is good day to code\"\n",
    "li = st.split(' ')\n",
    "\n",
    "for i in range(len(li)):\n",
    "    print(li[i])\n"
   ]
  },
  {
   "cell_type": "code",
   "execution_count": 7,
   "id": "88af9cd6-91ea-45dd-9223-df37a17aa78f",
   "metadata": {},
   "outputs": [
    {
     "name": "stdout",
     "output_type": "stream",
     "text": [
      "it\n",
      "is\n",
      "good\n",
      "day\n",
      "to\n",
      "code\n"
     ]
    }
   ],
   "source": [
    "st = \"it is good day to code\"\n",
    "li = st.split(' ')\n",
    "\n",
    "for i in li:\n",
    "    print(i)"
   ]
  },
  {
   "cell_type": "code",
   "execution_count": 8,
   "id": "e3b38ab1-0953-469f-8887-1b8e0d22d2f4",
   "metadata": {},
   "outputs": [
    {
     "data": {
      "text/plain": [
       "[1, 2]"
      ]
     },
     "execution_count": 8,
     "metadata": {},
     "output_type": "execute_result"
    }
   ],
   "source": [
    "li = [1, 2, 3, 4, 5]\n",
    "li[0:2]"
   ]
  },
  {
   "cell_type": "code",
   "execution_count": 9,
   "id": "f278571f-d0ec-44ea-b37d-f44f3daf7d19",
   "metadata": {},
   "outputs": [
    {
     "data": {
      "text/plain": [
       "[1, 2, 3]"
      ]
     },
     "execution_count": 9,
     "metadata": {},
     "output_type": "execute_result"
    }
   ],
   "source": [
    "li = [1, 2, 3, 4, 5]\n",
    "li[:3]"
   ]
  },
  {
   "cell_type": "code",
   "execution_count": 10,
   "id": "0e5dc4e4-aa40-4120-925e-1241c4c3d20d",
   "metadata": {},
   "outputs": [
    {
     "data": {
      "text/plain": [
       "[2, 3, 4, 5]"
      ]
     },
     "execution_count": 10,
     "metadata": {},
     "output_type": "execute_result"
    }
   ],
   "source": [
    "li = [1, 2, 3, 4, 5]\n",
    "li[1:] "
   ]
  },
  {
   "cell_type": "code",
   "execution_count": 11,
   "id": "ee70bb9d-3376-469b-9993-fd02cf94cc87",
   "metadata": {},
   "outputs": [
    {
     "data": {
      "text/plain": [
       "'to'"
      ]
     },
     "execution_count": 11,
     "metadata": {},
     "output_type": "execute_result"
    }
   ],
   "source": [
    "st = \"it is good day to code\"\n",
    "li = st.split(' ')\n",
    "\n",
    "li[-2]"
   ]
  },
  {
   "cell_type": "code",
   "execution_count": null,
   "id": "b4273e06-882d-4664-936e-9516b77e9c90",
   "metadata": {},
   "outputs": [],
   "source": []
  }
 ],
 "metadata": {
  "kernelspec": {
   "display_name": "Python 3 (ipykernel)",
   "language": "python",
   "name": "python3"
  },
  "language_info": {
   "codemirror_mode": {
    "name": "ipython",
    "version": 3
   },
   "file_extension": ".py",
   "mimetype": "text/x-python",
   "name": "python",
   "nbconvert_exporter": "python",
   "pygments_lexer": "ipython3",
   "version": "3.9.13"
  }
 },
 "nbformat": 4,
 "nbformat_minor": 5
}
