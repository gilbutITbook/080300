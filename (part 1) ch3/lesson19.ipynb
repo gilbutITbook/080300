{
 "cells": [
  {
   "cell_type": "code",
   "execution_count": 22,
   "id": "3ac48fed-428c-4e09-aff1-b502538ac2d5",
   "metadata": {},
   "outputs": [
    {
     "data": {
      "text/plain": [
       "dict"
      ]
     },
     "execution_count": 22,
     "metadata": {},
     "output_type": "execute_result"
    }
   ],
   "source": [
    "dic = {}\n",
    "type(dic)"
   ]
  },
  {
   "cell_type": "code",
   "execution_count": 23,
   "id": "def3c0ca-83f0-4f99-bc7f-609d7bf620bc",
   "metadata": {},
   "outputs": [
    {
     "name": "stdout",
     "output_type": "stream",
     "text": [
      "{'name': 'gunny', 'age': 30}\n"
     ]
    }
   ],
   "source": [
    "dic = {'name':'gunny', 'age':30}\n",
    "print(dic)"
   ]
  },
  {
   "cell_type": "code",
   "execution_count": 24,
   "id": "96a70bbd-5bfd-4fe7-ae97-224482339c48",
   "metadata": {},
   "outputs": [
    {
     "name": "stdout",
     "output_type": "stream",
     "text": [
      "{'name': 'gunny', 'age': 30}\n"
     ]
    }
   ],
   "source": [
    "# dic = {'name':'gunny', 'age':30}\n",
    "dic = dict(name = 'gunny', age = 30)\n",
    "print(dic)"
   ]
  },
  {
   "cell_type": "code",
   "execution_count": 25,
   "id": "22b02ac3-f24b-4ffb-85ab-9e61b2bc6551",
   "metadata": {},
   "outputs": [
    {
     "data": {
      "text/plain": [
       "'gunny'"
      ]
     },
     "execution_count": 25,
     "metadata": {},
     "output_type": "execute_result"
    }
   ],
   "source": [
    "dic = dict(name = 'gunny', age = 30)\n",
    "dic['name']"
   ]
  },
  {
   "cell_type": "code",
   "execution_count": 26,
   "id": "ada58eca-2b29-4b51-b4a3-3e8b1c87444c",
   "metadata": {},
   "outputs": [
    {
     "data": {
      "text/plain": [
       "'gunny'"
      ]
     },
     "execution_count": 26,
     "metadata": {},
     "output_type": "execute_result"
    }
   ],
   "source": [
    "dic = dict(name = 'gunny', age = 30)\n",
    "dic.get('name')"
   ]
  },
  {
   "cell_type": "code",
   "execution_count": 27,
   "id": "56a780b2-02c8-4f2d-a426-2033890bca00",
   "metadata": {},
   "outputs": [
    {
     "name": "stdout",
     "output_type": "stream",
     "text": [
      "None\n"
     ]
    }
   ],
   "source": [
    "dic = dict(name = 'gunny', age = 30)\n",
    "print(dic.get('a'))"
   ]
  },
  {
   "cell_type": "code",
   "execution_count": 28,
   "id": "f031615c-8411-4576-8250-555fef8461de",
   "metadata": {},
   "outputs": [
    {
     "name": "stdout",
     "output_type": "stream",
     "text": [
      "True\n"
     ]
    }
   ],
   "source": [
    "dic = dict(name = 'gunny', age = 30)\n",
    "print('name' in dic)"
   ]
  },
  {
   "cell_type": "code",
   "execution_count": 29,
   "id": "2294ec97-2e59-4204-89b5-e915881d9bc6",
   "metadata": {},
   "outputs": [
    {
     "name": "stdout",
     "output_type": "stream",
     "text": [
      "False\n"
     ]
    }
   ],
   "source": [
    "dic = dict(name = 'gunny', age = 30)\n",
    "print('gunny' in dic)"
   ]
  },
  {
   "cell_type": "code",
   "execution_count": 30,
   "id": "9d4d3389-91d3-42df-a49d-ec4265f6a89c",
   "metadata": {},
   "outputs": [
    {
     "name": "stdout",
     "output_type": "stream",
     "text": [
      "2\n"
     ]
    }
   ],
   "source": [
    "dic = dict(name = 'gunny', age = 30)\n",
    "print(len(dic))"
   ]
  },
  {
   "cell_type": "code",
   "execution_count": 31,
   "id": "f0f46f2c-278f-4797-a10e-fd68eb40ce0e",
   "metadata": {},
   "outputs": [
    {
     "name": "stdout",
     "output_type": "stream",
     "text": [
      "dict_items([('name', 'gunny'), ('age', 30)])\n"
     ]
    }
   ],
   "source": [
    "dic = dict(name = 'gunny', age = 30)\n",
    "print(dic.items())"
   ]
  },
  {
   "cell_type": "code",
   "execution_count": 32,
   "id": "255ac88f-f754-4286-8c77-7056bfc04d3b",
   "metadata": {},
   "outputs": [
    {
     "name": "stdout",
     "output_type": "stream",
     "text": [
      "dict_keys(['name', 'age'])\n"
     ]
    }
   ],
   "source": [
    "dic = dict(name = 'gunny', age = 30)\n",
    "print(dic.keys())"
   ]
  },
  {
   "cell_type": "code",
   "execution_count": 33,
   "id": "f940bf73-069d-4a57-af8c-b4054b9dad3a",
   "metadata": {},
   "outputs": [
    {
     "name": "stdout",
     "output_type": "stream",
     "text": [
      "dict_values(['gunny', 30])\n"
     ]
    }
   ],
   "source": [
    "dic = dict(name = 'gunny', age = 30)\n",
    "print(dic.values())"
   ]
  },
  {
   "cell_type": "code",
   "execution_count": 34,
   "id": "93c7127e-4e7c-45b6-addf-71f517328dd5",
   "metadata": {},
   "outputs": [
    {
     "name": "stdout",
     "output_type": "stream",
     "text": [
      "dict_items([('name', 'gunny'), ('age', 30), ('newkey', 'hello')])\n"
     ]
    }
   ],
   "source": [
    "dic = dict(name = 'gunny', age = 30)\n",
    "dic['newkey'] = 'hello'\n",
    "print(dic.items())"
   ]
  },
  {
   "cell_type": "code",
   "execution_count": 35,
   "id": "c5ffd7d6-fea5-48a6-9a74-efd14799d807",
   "metadata": {},
   "outputs": [
    {
     "name": "stdout",
     "output_type": "stream",
     "text": [
      "dict_items([('age', 30)])\n"
     ]
    }
   ],
   "source": [
    "dic = dict(name = 'gunny', age = 30)\n",
    "dic.pop('name')\n",
    "print(dic.items())"
   ]
  },
  {
   "cell_type": "code",
   "execution_count": 36,
   "id": "02b8656f-bb9b-414d-b94b-674a68d2c03e",
   "metadata": {},
   "outputs": [
    {
     "name": "stdout",
     "output_type": "stream",
     "text": [
      "dict_items([('name', 'gunny')])\n"
     ]
    }
   ],
   "source": [
    "dic = dict(name = 'gunny', age = 30)\n",
    "del dic['age']\n",
    "print(dic.items())"
   ]
  },
  {
   "cell_type": "code",
   "execution_count": 37,
   "id": "14dd7072-cfb3-4c02-b74a-d6f5527d0e79",
   "metadata": {},
   "outputs": [
    {
     "name": "stdout",
     "output_type": "stream",
     "text": [
      "dict_items([('name', 'gunny'), ('age', 30)])\n",
      "dict_items([])\n"
     ]
    }
   ],
   "source": [
    "dic = dict(name = 'gunny', age = 30)\n",
    "print(dic.items())\n",
    "\n",
    "dic.clear()\n",
    "print(dic.items())"
   ]
  },
  {
   "cell_type": "code",
   "execution_count": 38,
   "id": "18d66c18-55d4-474d-9132-2f9f3c4e73e9",
   "metadata": {},
   "outputs": [
    {
     "name": "stdout",
     "output_type": "stream",
     "text": [
      "dict_items([('name', 'gunny'), ('age', 30)])\n",
      "dict_items([('name', 'sunny'), ('age', 30)])\n"
     ]
    }
   ],
   "source": [
    "dic = dict(name = 'gunny', age = 30)\n",
    "print(dic.items())\n",
    "\n",
    "dic['name'] = 'sunny'\n",
    "print(dic.items())"
   ]
  },
  {
   "cell_type": "code",
   "execution_count": 39,
   "id": "fd43eaaf-80dc-4fe8-9b1b-bd1fc59940a1",
   "metadata": {},
   "outputs": [
    {
     "name": "stdout",
     "output_type": "stream",
     "text": [
      "dict_items([('name', 'gunny'), ('age', 30)])\n",
      "dict_items([('name', 'sonny'), ('age', 30)])\n"
     ]
    }
   ],
   "source": [
    "dic = dict(name = 'gunny', age = 30)\n",
    "print(dic.items())\n",
    "\n",
    "dic.update(name = 'sonny')\n",
    "print(dic.items())"
   ]
  },
  {
   "cell_type": "code",
   "execution_count": 40,
   "id": "b87a2e4a-f38d-412d-ba34-1005c98783ec",
   "metadata": {},
   "outputs": [
    {
     "name": "stdout",
     "output_type": "stream",
     "text": [
      "dict_items([('name', 'gunny'), ('age', 30)])\n",
      "dict_items([('name', 'gunny'), ('age', 30), ('a', 'new')])\n"
     ]
    }
   ],
   "source": [
    "dic = dict(name = 'gunny', age = 30)\n",
    "print(dic.items())\n",
    "\n",
    "dic['a'] = 'new'\n",
    "print(dic.items())"
   ]
  },
  {
   "cell_type": "code",
   "execution_count": 41,
   "id": "c559f7ab-9168-4f17-803b-e99aca57f536",
   "metadata": {},
   "outputs": [
    {
     "name": "stdout",
     "output_type": "stream",
     "text": [
      "dict_items([('name', 'gunny'), ('age', 30), (1, 'ill')])\n"
     ]
    }
   ],
   "source": [
    "dic1 = {'name' : 'gunny', 'age' : 30}\n",
    "dic2 = {1 : 'ill'}\n",
    "\n",
    "dic1.update(dic2)\n",
    "print(dic1.items()) "
   ]
  },
  {
   "cell_type": "code",
   "execution_count": 42,
   "id": "f1e45ec0-aa92-46c0-84f7-8e84c21f7a50",
   "metadata": {},
   "outputs": [
    {
     "name": "stdout",
     "output_type": "stream",
     "text": [
      "{'name': 'gunny', 'age': 30, '1': 'ill'}\n"
     ]
    }
   ],
   "source": [
    "dic1 = {'name' : 'gunny', 'age' : 30}\n",
    "dic2 = {'1' : 'ill'}\n",
    "\n",
    "dic3 = dic1.copy()  # dic3를 만들어서, dic1 내용을 복사 \n",
    "dic3.update(dic2)   # dic1 내용을 가진 사전 dic3에 dic2 내용을 추가\n",
    "\n",
    "print(dic3)"
   ]
  },
  {
   "cell_type": "code",
   "execution_count": 43,
   "id": "3ca5ddae-e474-446a-ae58-81fff068e8b1",
   "metadata": {},
   "outputs": [
    {
     "name": "stdout",
     "output_type": "stream",
     "text": [
      "name\n",
      "age\n",
      "1\n"
     ]
    }
   ],
   "source": [
    "dic1 = {'name' : 'gunny', 'age' : 30, 1 : 'ill'}\n",
    "\n",
    "for i in dic1:\n",
    "    print(i)"
   ]
  },
  {
   "cell_type": "code",
   "execution_count": 44,
   "id": "ef9cafaf-6447-471c-8f87-f8302c359f64",
   "metadata": {},
   "outputs": [
    {
     "name": "stdout",
     "output_type": "stream",
     "text": [
      "name gunny\n",
      "age 30\n",
      "1 ill\n"
     ]
    }
   ],
   "source": [
    "dic1 = {'name' : 'gunny', 'age' : 30, 1 : 'ill'}\n",
    "\n",
    "for i in dic1:\n",
    "    print(i, dic1[i])"
   ]
  },
  {
   "cell_type": "code",
   "execution_count": 45,
   "id": "7af256b3-227c-4a50-a5c3-4fccd38380bd",
   "metadata": {},
   "outputs": [
    {
     "name": "stdout",
     "output_type": "stream",
     "text": [
      "name gunny\n",
      "age 30\n",
      "1 ill\n"
     ]
    }
   ],
   "source": [
    "dic1 = {'name' : 'gunny', 'age' : 30, 1 : 'ill'}\n",
    "\n",
    "for i, j in dic1.items():\n",
    "    print(i, j)"
   ]
  },
  {
   "cell_type": "code",
   "execution_count": 46,
   "id": "2e369352-a6a6-41e1-a131-fee91ec0a121",
   "metadata": {},
   "outputs": [
    {
     "name": "stdout",
     "output_type": "stream",
     "text": [
      "[1, 2, 3]\n"
     ]
    },
    {
     "data": {
      "text/plain": [
       "list"
      ]
     },
     "execution_count": 46,
     "metadata": {},
     "output_type": "execute_result"
    }
   ],
   "source": [
    "dic1 = {'gunny' : [1, 2, 3], 'sunny' : 30 , 'sonny' : 'ill'}\n",
    "\n",
    "print(dic1['gunny'])\n",
    "type(dic1['gunny'])"
   ]
  },
  {
   "cell_type": "code",
   "execution_count": 47,
   "id": "00152015-10ab-4971-a653-59e49405fcb3",
   "metadata": {},
   "outputs": [
    {
     "data": {
      "text/plain": [
       "1"
      ]
     },
     "execution_count": 47,
     "metadata": {},
     "output_type": "execute_result"
    }
   ],
   "source": [
    "dic1 = {'gunny' : [1, 2, 3], 'sunny' : 30 , 'sonny' : 'ill'}\n",
    "\n",
    "# dic1이라는 사전의 ‘gunny’ 키를 가지고 있는 아이템의 0번째 인덱스에 접근\n",
    "dic1['gunny'][0]   "
   ]
  },
  {
   "cell_type": "code",
   "execution_count": 48,
   "id": "dcbdfa1d-663e-4ad3-b249-36a6fd2c88a2",
   "metadata": {},
   "outputs": [
    {
     "data": {
      "text/plain": [
       "dict_items([('gunny', [1, 2, 3, 10]), ('sunny', 30), ('sonny', 'ill')])"
      ]
     },
     "execution_count": 48,
     "metadata": {},
     "output_type": "execute_result"
    }
   ],
   "source": [
    "dic1 = {'gunny' : [1, 2, 3], 'sunny' : 30 , 'sonny' : 'ill'}\n",
    "\n",
    "dic1['gunny'].append(10)\n",
    "dic1.items()"
   ]
  },
  {
   "cell_type": "code",
   "execution_count": null,
   "id": "10b49c05-ef34-4c4c-a5c0-720acc50623e",
   "metadata": {},
   "outputs": [],
   "source": []
  }
 ],
 "metadata": {
  "kernelspec": {
   "display_name": "Python 3 (ipykernel)",
   "language": "python",
   "name": "python3"
  },
  "language_info": {
   "codemirror_mode": {
    "name": "ipython",
    "version": 3
   },
   "file_extension": ".py",
   "mimetype": "text/x-python",
   "name": "python",
   "nbconvert_exporter": "python",
   "pygments_lexer": "ipython3",
   "version": "3.9.13"
  }
 },
 "nbformat": 4,
 "nbformat_minor": 5
}
