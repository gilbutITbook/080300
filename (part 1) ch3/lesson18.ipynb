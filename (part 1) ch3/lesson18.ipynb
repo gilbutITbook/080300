{
 "cells": [
  {
   "cell_type": "code",
   "execution_count": 1,
   "id": "f4edee61-8f0d-4511-9ecf-ee4cdfc4a91f",
   "metadata": {},
   "outputs": [
    {
     "data": {
      "text/plain": [
       "set"
      ]
     },
     "execution_count": 1,
     "metadata": {},
     "output_type": "execute_result"
    }
   ],
   "source": [
    "se = {1, 2 ,3} \n",
    "\n",
    "type(se)"
   ]
  },
  {
   "cell_type": "code",
   "execution_count": 2,
   "id": "08ce0f42-fcd9-45b1-b0ae-652a568afd1c",
   "metadata": {},
   "outputs": [
    {
     "name": "stdout",
     "output_type": "stream",
     "text": [
      "{'o', 'r', 'h', 'w', 'e', 'd', 'l'}\n"
     ]
    }
   ],
   "source": [
    "se = set(\"helloworld\")\n",
    "\n",
    "print(se)"
   ]
  },
  {
   "cell_type": "code",
   "execution_count": 3,
   "id": "eebb6916-88ff-4c12-b687-fede69320afc",
   "metadata": {},
   "outputs": [
    {
     "name": "stdout",
     "output_type": "stream",
     "text": [
      "{0, 1, 2, 3, 4}\n"
     ]
    }
   ],
   "source": [
    "se = set(range(5))\n",
    "\n",
    "print(se)"
   ]
  },
  {
   "cell_type": "code",
   "execution_count": 4,
   "id": "a6f40697-a5a2-4263-96a8-b2922fbc7df9",
   "metadata": {},
   "outputs": [
    {
     "data": {
      "text/plain": [
       "dict"
      ]
     },
     "execution_count": 4,
     "metadata": {},
     "output_type": "execute_result"
    }
   ],
   "source": [
    "se = {}\n",
    "\n",
    "type(se)"
   ]
  },
  {
   "cell_type": "code",
   "execution_count": 5,
   "id": "57f1eeac-6402-4637-a0bf-3709a853bc3b",
   "metadata": {},
   "outputs": [
    {
     "data": {
      "text/plain": [
       "set"
      ]
     },
     "execution_count": 5,
     "metadata": {},
     "output_type": "execute_result"
    }
   ],
   "source": [
    "se = set()\n",
    "\n",
    "type(se)"
   ]
  },
  {
   "cell_type": "code",
   "execution_count": 6,
   "id": "64d0f3ba-f5c8-400e-8521-8972a9fc2ec7",
   "metadata": {},
   "outputs": [
    {
     "name": "stdout",
     "output_type": "stream",
     "text": [
      "True\n",
      "5\n",
      "5\n",
      "1\n"
     ]
    }
   ],
   "source": [
    "se = {1, 2, 3, 4, 5}\n",
    "\n",
    "print(1 in se)\n",
    "print(len(se))\n",
    "print(max(se))\n",
    "print(min(se))"
   ]
  },
  {
   "cell_type": "code",
   "execution_count": 7,
   "id": "2766252e-7cdb-4b76-b049-ff40e0ba9cf5",
   "metadata": {},
   "outputs": [
    {
     "name": "stdout",
     "output_type": "stream",
     "text": [
      "1\n",
      "2\n",
      "3\n",
      "4\n",
      "5\n"
     ]
    }
   ],
   "source": [
    "se1 = {1, 2, 3, 4, 5}\n",
    "\n",
    "for i in se1:\n",
    "    print(i)"
   ]
  },
  {
   "cell_type": "code",
   "execution_count": 8,
   "id": "a71392ca-0efb-4687-a039-b56d08097e6d",
   "metadata": {},
   "outputs": [
    {
     "name": "stdout",
     "output_type": "stream",
     "text": [
      "{1, 2, 3, 4, 5, 6}\n"
     ]
    }
   ],
   "source": [
    "se = {1, 2, 3, 4, 5}\n",
    "\n",
    "se.add(6)\n",
    "print(se)"
   ]
  },
  {
   "cell_type": "code",
   "execution_count": 9,
   "id": "b4fc6236-6f4e-4bfa-b98d-1ff46efea4b4",
   "metadata": {},
   "outputs": [
    {
     "name": "stdout",
     "output_type": "stream",
     "text": [
      "{1, 2, 3, 4, 5, 6, 7, 8}\n"
     ]
    }
   ],
   "source": [
    "se = {1, 2, 3, 4, 5}\n",
    "\n",
    "se.update({6, 7, 8})\n",
    "print(se)"
   ]
  },
  {
   "cell_type": "code",
   "execution_count": 10,
   "id": "f886035e-30d9-49bb-b1e6-95118b3b55ad",
   "metadata": {},
   "outputs": [
    {
     "name": "stdout",
     "output_type": "stream",
     "text": [
      "pizza\n"
     ]
    }
   ],
   "source": [
    "se = {\"chicken\", \"pizza\", \"hamburger\"}\n",
    "\n",
    "print(se.pop())"
   ]
  },
  {
   "cell_type": "code",
   "execution_count": 11,
   "id": "bc9f13ea-3f3c-43c5-a1ed-544fd45bd47b",
   "metadata": {},
   "outputs": [
    {
     "name": "stdout",
     "output_type": "stream",
     "text": [
      "{1, 3, 4, 5} None\n"
     ]
    }
   ],
   "source": [
    "se = {1, 2, 3, 4, 5}\n",
    "a = se.remove(2)\n",
    "\n",
    "print(se, a)"
   ]
  },
  {
   "cell_type": "code",
   "execution_count": 12,
   "id": "2e82ba81-3da0-4cb4-8cda-4de6f2f712fc",
   "metadata": {},
   "outputs": [
    {
     "name": "stdout",
     "output_type": "stream",
     "text": [
      "{1, 2, 3, 4, 5}\n"
     ]
    }
   ],
   "source": [
    "se1 = {1, 2, 3}\n",
    "se2 = {3, 4, 5}\n",
    "\n",
    "se3 = se1 | se2\n",
    "print(se3)"
   ]
  },
  {
   "cell_type": "code",
   "execution_count": 13,
   "id": "43eae2fb-9f89-414c-a507-d6ab3fbd6bcb",
   "metadata": {},
   "outputs": [
    {
     "name": "stdout",
     "output_type": "stream",
     "text": [
      "{1, 2, 3, 4, 5}\n"
     ]
    }
   ],
   "source": [
    "se1 = {1, 2, 3}\n",
    "se2 = {3, 4, 5}\n",
    "\n",
    "se3 = set.union(se1, se2)\n",
    "print(se3)"
   ]
  },
  {
   "cell_type": "code",
   "execution_count": 14,
   "id": "9cb229de-5865-4231-bb38-364e177a027b",
   "metadata": {},
   "outputs": [
    {
     "name": "stdout",
     "output_type": "stream",
     "text": [
      "{3}\n"
     ]
    }
   ],
   "source": [
    "se1 = {1, 2, 3}\n",
    "se2 = {3, 4, 5}\n",
    "\n",
    "se3 = se1 & se2\n",
    "print(se3)"
   ]
  },
  {
   "cell_type": "code",
   "execution_count": 15,
   "id": "4fcbc7a4-581c-40e1-9a00-31421fd4b821",
   "metadata": {},
   "outputs": [
    {
     "name": "stdout",
     "output_type": "stream",
     "text": [
      "{3}\n"
     ]
    }
   ],
   "source": [
    "se1 = {1, 2, 3}\n",
    "se2 = {3, 4, 5}\n",
    "\n",
    "se3 = set.intersection(se1, se2)\n",
    "print(se3)"
   ]
  },
  {
   "cell_type": "code",
   "execution_count": 16,
   "id": "8cd541b3-6918-4c03-8830-01c48879313a",
   "metadata": {},
   "outputs": [
    {
     "name": "stdout",
     "output_type": "stream",
     "text": [
      "{1, 2}\n"
     ]
    }
   ],
   "source": [
    "se1 = {1, 2, 3}\n",
    "se2 = {3, 4, 5}\n",
    "\n",
    "se3 = se1 - se2\n",
    "print(se3)"
   ]
  },
  {
   "cell_type": "code",
   "execution_count": 17,
   "id": "4e7898fd-f033-4344-91dc-24a3fa6ac3b1",
   "metadata": {},
   "outputs": [
    {
     "name": "stdout",
     "output_type": "stream",
     "text": [
      "{1, 2}\n"
     ]
    }
   ],
   "source": [
    "se1 = {1, 2, 3}\n",
    "se2 = {3, 4, 5}\n",
    "\n",
    "se3 = set.difference(se1, se2) \n",
    "print(se3)"
   ]
  },
  {
   "cell_type": "code",
   "execution_count": 18,
   "id": "60c91702-feb1-4cce-bfc7-c207dbc52846",
   "metadata": {},
   "outputs": [
    {
     "name": "stdout",
     "output_type": "stream",
     "text": [
      "True\n"
     ]
    }
   ],
   "source": [
    "se1 = {1, 2, 3, 4, 5}\n",
    "se2 = {3, 4, 5}\n",
    "\n",
    "print(set.issubset(se2, se1))"
   ]
  },
  {
   "cell_type": "code",
   "execution_count": null,
   "id": "112b8e62-0e28-4586-aa4f-527ba340e708",
   "metadata": {},
   "outputs": [],
   "source": []
  }
 ],
 "metadata": {
  "kernelspec": {
   "display_name": "Python 3 (ipykernel)",
   "language": "python",
   "name": "python3"
  },
  "language_info": {
   "codemirror_mode": {
    "name": "ipython",
    "version": 3
   },
   "file_extension": ".py",
   "mimetype": "text/x-python",
   "name": "python",
   "nbconvert_exporter": "python",
   "pygments_lexer": "ipython3",
   "version": "3.9.13"
  }
 },
 "nbformat": 4,
 "nbformat_minor": 5
}
