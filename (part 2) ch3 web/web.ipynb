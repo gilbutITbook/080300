{
 "cells": [
  {
   "cell_type": "code",
   "execution_count": 3,
   "id": "7f5e7d01-49d3-43be-b81f-7826d4014725",
   "metadata": {},
   "outputs": [
    {
     "name": "stdout",
     "output_type": "stream",
     "text": [
      "총 15만큼의 새로운 글이 있습니다.954252271\n",
      "총 0만큼의 새로운 글이 있습니다.954252271\n",
      "총 0만큼의 새로운 글이 있습니다.954252271\n",
      "총 0만큼의 새로운 글이 있습니다.954252271\n"
     ]
    },
    {
     "ename": "KeyboardInterrupt",
     "evalue": "",
     "output_type": "error",
     "traceback": [
      "\u001b[1;31m---------------------------------------------------------------------------\u001b[0m",
      "\u001b[1;31mKeyboardInterrupt\u001b[0m                         Traceback (most recent call last)",
      "\u001b[1;32m~\\AppData\\Local\\Temp\\ipykernel_12280\\591500422.py\u001b[0m in \u001b[0;36m<module>\u001b[1;34m\u001b[0m\n\u001b[0;32m     60\u001b[0m     \u001b[0msend_mail\u001b[0m\u001b[1;33m(\u001b[0m\u001b[0mlen\u001b[0m\u001b[1;33m(\u001b[0m\u001b[0mpost_list\u001b[0m\u001b[1;33m)\u001b[0m\u001b[1;33m)\u001b[0m\u001b[1;33m\u001b[0m\u001b[1;33m\u001b[0m\u001b[0m\n\u001b[0;32m     61\u001b[0m     \u001b[0mprint\u001b[0m\u001b[1;33m(\u001b[0m\u001b[1;34m\"총 \"\u001b[0m \u001b[1;33m+\u001b[0m \u001b[0mstr\u001b[0m\u001b[1;33m(\u001b[0m\u001b[0mlen\u001b[0m\u001b[1;33m(\u001b[0m\u001b[0mpost_list\u001b[0m\u001b[1;33m)\u001b[0m\u001b[1;33m)\u001b[0m \u001b[1;33m+\u001b[0m \u001b[1;34m\"만큼의 새로운 글이 있습니다.\"\u001b[0m \u001b[1;33m+\u001b[0m \u001b[0mstr\u001b[0m\u001b[1;33m(\u001b[0m\u001b[0mlast_num\u001b[0m\u001b[1;33m)\u001b[0m\u001b[1;33m)\u001b[0m\u001b[1;33m\u001b[0m\u001b[1;33m\u001b[0m\u001b[0m\n\u001b[1;32m---> 62\u001b[1;33m     \u001b[0mtime\u001b[0m\u001b[1;33m.\u001b[0m\u001b[0msleep\u001b[0m\u001b[1;33m(\u001b[0m\u001b[1;36m10\u001b[0m\u001b[1;33m)\u001b[0m\u001b[1;33m\u001b[0m\u001b[1;33m\u001b[0m\u001b[0m\n\u001b[0m",
      "\u001b[1;31mKeyboardInterrupt\u001b[0m: "
     ]
    }
   ],
   "source": [
    "from selenium import webdriver\n",
    "from selenium.webdriver.common.by import By\n",
    "from selenium.webdriver.common.keys import Keys\n",
    "import time\n",
    "from bs4 import BeautifulSoup\n",
    "\n",
    "keyword = \"다이슨\"\n",
    "last_num = 0\n",
    "driver = webdriver.Chrome()\n",
    "driver.get('https://cafe.naver.com/joonggonara')\n",
    "time.sleep(3)\n",
    "\n",
    "while True:\n",
    "    # 두 번째 루프 이후 본문을 보던 iframe을 다시 검색 페이지로 복귀\n",
    "    driver.switch_to.default_content()\n",
    "    \n",
    "    # 검색 키워드 입력 후 검색 클릭\n",
    "    elem = driver.find_element(By.CLASS_NAME, \"inp\")\n",
    "    elem.send_keys(keyword)\n",
    "    elem.send_keys(Keys.RETURN)\n",
    "\n",
    "    # iframe 변경\n",
    "    iframe = driver.find_element(By.CSS_SELECTOR, (\"iframe#cafe_main\"))\n",
    "    driver.switch_to.frame(iframe)\n",
    "\n",
    "    # html = iframe의 html 코드를 모두 파싱\n",
    "    html = BeautifulSoup(driver.page_source, 'html.parser')\n",
    "\n",
    "    # 부모인 div class=\"article-board m-tcol-c\">의 table > tbody > tr에 접근\n",
    "    posts = html.select('div.article-board.m-tcol-c > table > tbody > tr')\n",
    "\n",
    "    post_list = [ ]\n",
    "\n",
    "    for post in posts: \n",
    "        post_dic = {'pnum': '', 'ptitle': '', 'pwriter': ''}\n",
    "        post_dic['pnum'] = post.select('div.inner_number')[0].text\n",
    "        post_dic['ptitle'] = post.select('a.article')[0].text.strip()\n",
    "        post_dic['pwriter'] = post.select('a.m-tcol-c')[0].text\n",
    "\n",
    "        post_list.append(post_dic)\n",
    "        \n",
    "    # 최초로 루프가 돌아간 시점\n",
    "    if last_num == 0:\n",
    "        last_num = post_list[0]['pnum']\n",
    "        send_mail(999)\n",
    "\n",
    "    # 두 번째 루프가 돌아간 이후\n",
    "    else:\n",
    "        for i in range(0, len(post_list)):\n",
    "            # 이 조건문에 들어오는 건 5분 전 글보다 더 이전 글\n",
    "            if (post_list[i]['pnum'] <= last_num):\n",
    "                del post_list[i:]\n",
    "                break\n",
    "\n",
    "        # 새로운 글이 있다면 다시 리스트의 최신으로 넣어 줌\n",
    "        if(len(post_list) != 0):\n",
    "            last_num = post_list[0]['pnum']\n",
    "            \n",
    "\n",
    "    send_mail(len(post_list))\n",
    "    print(\"총 \" + str(len(post_list)) + \"만큼의 새로운 글이 있습니다.\" + str(last_num))\n",
    "    time.sleep(300)\n"
   ]
  },
  {
   "cell_type": "code",
   "execution_count": 1,
   "id": "35406542-f4b8-4d19-9c20-bc2c01f9d90f",
   "metadata": {},
   "outputs": [],
   "source": [
    "import smtplib\n",
    "\n",
    "def send_mail(len):\n",
    "    s = smtplib.SMTP('smtp.gmail.com', 587)\n",
    "    s.starttls()\n",
    "    s.login(\"gunny.algotogether@gmail.com\", \"gunnypas********\")\n",
    "    if(len == 999):\n",
    "        message = (\"검색 시작\").encode('utf-8')\n",
    "    else:\n",
    "        message = (\"새로운 상품이\" + str(len) +  \" 개 등록 되었습니다. \").encode('utf-8')\n",
    "    s.sendmail(\"gunny.algotogether@gmail.com\", \"gunny.algotogether@gmail.com\", message)\n",
    "    s.quit()"
   ]
  },
  {
   "cell_type": "code",
   "execution_count": null,
   "id": "3b2a565c-2881-4597-867f-936c325f64a0",
   "metadata": {},
   "outputs": [],
   "source": []
  }
 ],
 "metadata": {
  "kernelspec": {
   "display_name": "Python 3 (ipykernel)",
   "language": "python",
   "name": "python3"
  },
  "language_info": {
   "codemirror_mode": {
    "name": "ipython",
    "version": 3
   },
   "file_extension": ".py",
   "mimetype": "text/x-python",
   "name": "python",
   "nbconvert_exporter": "python",
   "pygments_lexer": "ipython3",
   "version": "3.9.13"
  }
 },
 "nbformat": 4,
 "nbformat_minor": 5
}
