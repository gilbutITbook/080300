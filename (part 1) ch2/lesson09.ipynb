{
 "cells": [
  {
   "cell_type": "code",
   "execution_count": 1,
   "id": "15164110-cab8-4052-9a02-44105146d397",
   "metadata": {},
   "outputs": [
    {
     "name": "stdout",
     "output_type": "stream",
     "text": [
      "숫자를 입력하세요.\n"
     ]
    },
    {
     "name": "stdin",
     "output_type": "stream",
     "text": [
      " 5\n"
     ]
    },
    {
     "name": "stdout",
     "output_type": "stream",
     "text": [
      "홀수입니다.\n"
     ]
    }
   ],
   "source": [
    "# 숫자를 입력하라는 문장 출력하기\n",
    "print(\"숫자를 입력하세요.\") \n",
    "\n",
    "# 인풋으로 숫자를 하나 입력받기\n",
    "num = input()\n",
    "num = int(num)\n",
    "\n",
    "# 짝수인지 홀수인지 0인지 확인하기 \n",
    "if num == 0:\n",
    "    print(\"0입니다.\") \n",
    "elif (num % 2) == 0:\n",
    "    print(\"짝수입니다.\") \n",
    "else:\n",
    "    print(\"홀수입니다.\")\n"
   ]
  },
  {
   "cell_type": "code",
   "execution_count": null,
   "id": "aa0b1676-f321-46a8-8503-7d16b114ffcc",
   "metadata": {},
   "outputs": [],
   "source": []
  }
 ],
 "metadata": {
  "kernelspec": {
   "display_name": "Python 3 (ipykernel)",
   "language": "python",
   "name": "python3"
  },
  "language_info": {
   "codemirror_mode": {
    "name": "ipython",
    "version": 3
   },
   "file_extension": ".py",
   "mimetype": "text/x-python",
   "name": "python",
   "nbconvert_exporter": "python",
   "pygments_lexer": "ipython3",
   "version": "3.9.13"
  }
 },
 "nbformat": 4,
 "nbformat_minor": 5
}
