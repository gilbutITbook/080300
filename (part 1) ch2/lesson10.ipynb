{
 "cells": [
  {
   "cell_type": "code",
   "execution_count": 1,
   "id": "66be920c-bf64-43eb-b8ab-466099dfc68c",
   "metadata": {},
   "outputs": [],
   "source": [
    "num = 0 \n",
    "\n",
    "while num > 10:\n",
    "    print(\"Hello Gunny\") \n",
    "    num = num + 1"
   ]
  },
  {
   "cell_type": "code",
   "execution_count": 2,
   "id": "69d8e373-a1b3-4a10-9631-be109e39a388",
   "metadata": {},
   "outputs": [
    {
     "name": "stdout",
     "output_type": "stream",
     "text": [
      "Hello Gunny0\n",
      "Hello Gunny1\n",
      "Hello Gunny2\n",
      "Hello Gunny3\n",
      "Hello Gunny4\n",
      "Hello Gunny5\n",
      "Hello Gunny6\n",
      "Hello Gunny7\n",
      "Hello Gunny8\n",
      "Hello Gunny9\n"
     ]
    }
   ],
   "source": [
    "num = 0 \n",
    "\n",
    "while num < 10:\n",
    "    print(\"Hello Gunny\" + str(num)) \n",
    "    num = num + 1"
   ]
  },
  {
   "cell_type": "code",
   "execution_count": 3,
   "id": "7a77245d-c459-449f-9cf7-1c92e74dccb3",
   "metadata": {},
   "outputs": [
    {
     "name": "stdout",
     "output_type": "stream",
     "text": [
      "0\n",
      "1\n",
      "2\n",
      "3\n",
      "4\n",
      "5\n"
     ]
    }
   ],
   "source": [
    "for i in range(6):\n",
    "    print(i)"
   ]
  },
  {
   "cell_type": "code",
   "execution_count": 4,
   "id": "b33bbf5d-e177-4992-a1d7-faa867e5ded1",
   "metadata": {},
   "outputs": [
    {
     "name": "stdout",
     "output_type": "stream",
     "text": [
      "apple\n",
      "orange\n",
      "melon\n"
     ]
    }
   ],
   "source": [
    "fruits = [\"apple\", \"orange\", \"melon\"] \n",
    "\n",
    "for i in fruits:\n",
    "    print(i)"
   ]
  },
  {
   "cell_type": "code",
   "execution_count": null,
   "id": "0ef63ca6-a9b4-42ca-be91-a7d5c64512c8",
   "metadata": {},
   "outputs": [],
   "source": []
  }
 ],
 "metadata": {
  "kernelspec": {
   "display_name": "Python 3 (ipykernel)",
   "language": "python",
   "name": "python3"
  },
  "language_info": {
   "codemirror_mode": {
    "name": "ipython",
    "version": 3
   },
   "file_extension": ".py",
   "mimetype": "text/x-python",
   "name": "python",
   "nbconvert_exporter": "python",
   "pygments_lexer": "ipython3",
   "version": "3.9.13"
  }
 },
 "nbformat": 4,
 "nbformat_minor": 5
}
