{
 "cells": [
  {
   "cell_type": "code",
   "execution_count": 5,
   "id": "2f5d3fa9-c515-45b1-a66a-47787958e70f",
   "metadata": {},
   "outputs": [
    {
     "name": "stdout",
     "output_type": "stream",
     "text": [
      "32C의 F 온도는 89.6입니다.\n"
     ]
    }
   ],
   "source": [
    "c = 32\n",
    "f = c * 1.8\n",
    "f = f + 32\n",
    "\n",
    "print(str(c) + \"C의 F 온도는 \" + str(f) + \"입니다.\")"
   ]
  },
  {
   "cell_type": "code",
   "execution_count": 6,
   "id": "5866bf62-36fa-4653-b6d9-d957e84da96d",
   "metadata": {},
   "outputs": [],
   "source": [
    "def CtoF(num):\n",
    "    f = num * 1.8 + 32\n",
    "    return f"
   ]
  },
  {
   "cell_type": "code",
   "execution_count": 7,
   "id": "bd4c98c1-d239-421a-9192-bdd55bcd8778",
   "metadata": {},
   "outputs": [
    {
     "data": {
      "text/plain": [
       "30.2"
      ]
     },
     "execution_count": 7,
     "metadata": {},
     "output_type": "execute_result"
    }
   ],
   "source": [
    "CtoF(-1)"
   ]
  },
  {
   "cell_type": "code",
   "execution_count": 8,
   "id": "319291c5-d3c1-4bfe-a191-4768f1a0f764",
   "metadata": {},
   "outputs": [],
   "source": [
    "def FtoC(num):\n",
    "    return(num - 32) / 1.8"
   ]
  },
  {
   "cell_type": "code",
   "execution_count": 9,
   "id": "d828b5d5-ad07-4743-8e5d-3a479a6bbe56",
   "metadata": {},
   "outputs": [
    {
     "data": {
      "text/plain": [
       "31.999999999999996"
      ]
     },
     "execution_count": 9,
     "metadata": {},
     "output_type": "execute_result"
    }
   ],
   "source": [
    "FtoC(89.6)"
   ]
  },
  {
   "cell_type": "code",
   "execution_count": null,
   "id": "9117134a-1b08-4b13-9fd5-86b59da100e8",
   "metadata": {},
   "outputs": [],
   "source": []
  }
 ],
 "metadata": {
  "kernelspec": {
   "display_name": "Python 3 (ipykernel)",
   "language": "python",
   "name": "python3"
  },
  "language_info": {
   "codemirror_mode": {
    "name": "ipython",
    "version": 3
   },
   "file_extension": ".py",
   "mimetype": "text/x-python",
   "name": "python",
   "nbconvert_exporter": "python",
   "pygments_lexer": "ipython3",
   "version": "3.9.13"
  }
 },
 "nbformat": 4,
 "nbformat_minor": 5
}
