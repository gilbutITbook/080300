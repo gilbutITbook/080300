{
 "cells": [
  {
   "cell_type": "code",
   "execution_count": 2,
   "id": "99c63cbd-6c19-45e2-9d46-b31a329408a8",
   "metadata": {},
   "outputs": [
    {
     "name": "stdout",
     "output_type": "stream",
     "text": [
      "당신의 아이큐는 몇입니까?\n"
     ]
    },
    {
     "name": "stdin",
     "output_type": "stream",
     "text": [
      " 100\n"
     ]
    },
    {
     "name": "stdout",
     "output_type": "stream",
     "text": [
      "당신의 아이큐는 70 입니다.\n"
     ]
    }
   ],
   "source": [
    "print(\"당신의 아이큐는 몇입니까?\")\n",
    "iq = input()\n",
    "iq = int(iq) - 30\n",
    "print(\"당신의 아이큐는 \" + str(iq) + \" 입니다.\")"
   ]
  },
  {
   "cell_type": "code",
   "execution_count": 3,
   "id": "3bf6e214-f64f-4dcd-b4d2-a5be5cf672e7",
   "metadata": {},
   "outputs": [
    {
     "name": "stdout",
     "output_type": "stream",
     "text": [
      "당신의 아이큐는 몇입니까?\n"
     ]
    },
    {
     "name": "stdin",
     "output_type": "stream",
     "text": [
      " 100\n"
     ]
    },
    {
     "name": "stdout",
     "output_type": "stream",
     "text": [
      "<class 'str'>\n",
      "<class 'int'>\n",
      "당신의 아이큐는 70 입니다.\n"
     ]
    }
   ],
   "source": [
    "# 아이큐를 물어본다. \n",
    "print(\"당신의 아이큐는 몇입니까?\")\n",
    "\n",
    "# 변수 iq를 만들어서 input() 함수로 값을 받는다. \n",
    "iq = input()\n",
    "print(type(iq))\n",
    "\n",
    "# 아이큐를 30 낮춘다. \n",
    "iq = int(iq) - 30\n",
    "print(type(iq))\n",
    "\n",
    "# 낮춘 아이큐를 출력하면서 “당신의 IQ는 ___ 입니다.”라고 알려준다.\n",
    "print(\"당신의 아이큐는 \" + str(iq) + \" 입니다.\")"
   ]
  },
  {
   "cell_type": "code",
   "execution_count": null,
   "id": "3da72a4d-93b9-4695-8a19-94280ea051e9",
   "metadata": {},
   "outputs": [],
   "source": []
  }
 ],
 "metadata": {
  "kernelspec": {
   "display_name": "Python 3 (ipykernel)",
   "language": "python",
   "name": "python3"
  },
  "language_info": {
   "codemirror_mode": {
    "name": "ipython",
    "version": 3
   },
   "file_extension": ".py",
   "mimetype": "text/x-python",
   "name": "python",
   "nbconvert_exporter": "python",
   "pygments_lexer": "ipython3",
   "version": "3.9.13"
  }
 },
 "nbformat": 4,
 "nbformat_minor": 5
}
