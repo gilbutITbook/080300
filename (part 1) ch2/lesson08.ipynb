{
 "cells": [
  {
   "cell_type": "code",
   "execution_count": 1,
   "id": "a1514b49-2cf4-4fc7-a636-9a5e2febdb91",
   "metadata": {},
   "outputs": [
    {
     "name": "stdout",
     "output_type": "stream",
     "text": [
      "위 단어는 피자입니다.\n"
     ]
    }
   ],
   "source": [
    "word = \"pizza\"\n",
    "\n",
    "if word == \"pizza\":\n",
    "    print(\"위 단어는 피자입니다.\")"
   ]
  },
  {
   "cell_type": "code",
   "execution_count": 2,
   "id": "c7a0fc2d-0eaa-4bdb-866e-b9e09d0b8642",
   "metadata": {},
   "outputs": [],
   "source": [
    "word = \"pizza5\"\n",
    "\n",
    "if word == \"pizza\":\n",
    "    print(\"위 단어는 피자입니다.\")"
   ]
  },
  {
   "cell_type": "code",
   "execution_count": 3,
   "id": "a9704419-dd83-4e44-a00c-5a2c2e172308",
   "metadata": {},
   "outputs": [
    {
     "name": "stdout",
     "output_type": "stream",
     "text": [
      "위 단어는 피자입니다.\n",
      "위 단어는 피자가 절대 아닙니다.\n"
     ]
    }
   ],
   "source": [
    "word = \"pizza\"\n",
    "\n",
    "if word == \"pizza\":\n",
    "    print(\"위 단어는 피자입니다.\")\n",
    "    \n",
    "    print(\"위 단어는 피자가 절대 아닙니다.\")"
   ]
  },
  {
   "cell_type": "code",
   "execution_count": 4,
   "id": "ccc0c250-0f58-4d5d-bd49-cf9845a0a8a2",
   "metadata": {},
   "outputs": [
    {
     "name": "stdout",
     "output_type": "stream",
     "text": [
      "위 단어는 피자입니다.\n",
      "위 단어는 피자가 절대 아닙니다.\n"
     ]
    }
   ],
   "source": [
    "word = \"pizza\"\n",
    "\n",
    "if word == \"pizza\":\n",
    "    print(\"위 단어는 피자입니다.\")\n",
    "    \n",
    "print(\"위 단어는 피자가 절대 아닙니다.\")"
   ]
  },
  {
   "cell_type": "code",
   "execution_count": 5,
   "id": "01afe669-c8ab-4814-b4e2-4889fdf67ba9",
   "metadata": {},
   "outputs": [
    {
     "name": "stdout",
     "output_type": "stream",
     "text": [
      "위 단어는 피자가 절대 아닙니다.\n"
     ]
    }
   ],
   "source": [
    "word = \"pizza5\"\n",
    "\n",
    "if word == \"pizza\":\n",
    "    print(\"위 단어는 피자입니다.\")\n",
    "    \n",
    "print(\"위 단어는 피자가 절대 아닙니다.\")"
   ]
  },
  {
   "cell_type": "code",
   "execution_count": 6,
   "id": "da1b4104-9656-4721-988b-1bff62bf04d9",
   "metadata": {},
   "outputs": [
    {
     "name": "stdout",
     "output_type": "stream",
     "text": [
      "위 단어는 피자입니다.\n"
     ]
    }
   ],
   "source": [
    "word = \"pizza\"\n",
    "\n",
    "if word == \"pizza\":\n",
    "    print(\"위 단어는 피자입니다.\")\n",
    "else:   \n",
    "    print(\"위 단어는 피자가 절대 아닙니다.\")"
   ]
  },
  {
   "cell_type": "code",
   "execution_count": 7,
   "id": "7307d094-db73-4363-9656-c36eafee4e18",
   "metadata": {},
   "outputs": [
    {
     "name": "stdout",
     "output_type": "stream",
     "text": [
      "위 단어는 피자가 절대 아닙니다.\n"
     ]
    }
   ],
   "source": [
    "word = \"pizza5\"\n",
    "\n",
    "if word == \"pizza\":\n",
    "    print(\"위 단어는 피자입니다.\")\n",
    "else:   \n",
    "    print(\"위 단어는 피자가 절대 아닙니다.\")"
   ]
  },
  {
   "cell_type": "code",
   "execution_count": 8,
   "id": "d2707d51-eead-4f1b-b6dd-ad2dbe494256",
   "metadata": {},
   "outputs": [
    {
     "name": "stdout",
     "output_type": "stream",
     "text": [
      "위 단어는 햄버거입니다.\n"
     ]
    }
   ],
   "source": [
    "word = \"hamburger\"\n",
    "\n",
    "if word == \"pizza\" or word == \"hamburger\":\n",
    "    if word == \"pizza\": \n",
    "        print(\"위 단어는 피자입니다.\")\n",
    "    else: \n",
    "        print(\"위 단어는 햄버거입니다.\")\n",
    "else:   \n",
    "    print(\"위 단어는 피자나 햄버거가 아닙니다.\")"
   ]
  },
  {
   "cell_type": "code",
   "execution_count": 9,
   "id": "11aa66a9-6020-4cd6-b695-b1acf8d62402",
   "metadata": {},
   "outputs": [
    {
     "name": "stdout",
     "output_type": "stream",
     "text": [
      "위 단어는 햄버거입니다.\n"
     ]
    }
   ],
   "source": [
    "word = \"hamburger\"\n",
    "\n",
    "if word == \"pizza\":\n",
    "    print(\"위 단어는 피자입니다.\")\n",
    "elif word == \"hamburger\":\n",
    "    print(\"위 단어는 햄버거입니다.\")\n",
    "else:   \n",
    "    print(\"위 단어는 피자나 햄버거가 아닙니다.\")"
   ]
  },
  {
   "cell_type": "code",
   "execution_count": 10,
   "id": "3b37daf2-0f8d-4819-bdf7-96b1b869c895",
   "metadata": {},
   "outputs": [
    {
     "name": "stdout",
     "output_type": "stream",
     "text": [
      "위 단어는 햄버거입니다.\n"
     ]
    }
   ],
   "source": [
    "word = \"hamburger\"\n",
    "\n",
    "if word == \"pizza\":\n",
    "    print(\"위 단어는 피자입니다.\")\n",
    "elif word == \"hamburger\":\n",
    "    print(\"위 단어는 햄버거입니다.\")\n",
    "elif word == \"chicken\":\n",
    "    print(\"위 단어는 치킨입니다.\")\n",
    "else:   \n",
    "    print(\"위 단어는 피자나 햄버거나 치킨이 아닙니다.\")"
   ]
  },
  {
   "cell_type": "code",
   "execution_count": 11,
   "id": "c1f6910e-e67d-4b59-bed4-2986d1dee4f6",
   "metadata": {},
   "outputs": [
    {
     "ename": "SyntaxError",
     "evalue": "invalid syntax (3527592126.py, line 4)",
     "output_type": "error",
     "traceback": [
      "\u001b[1;36m  File \u001b[1;32m\"C:\\Users\\gilbut\\AppData\\Local\\Temp\\ipykernel_6852\\3527592126.py\"\u001b[1;36m, line \u001b[1;32m4\u001b[0m\n\u001b[1;33m    영어를 쓰시오.\u001b[0m\n\u001b[1;37m        ^\u001b[0m\n\u001b[1;31mSyntaxError\u001b[0m\u001b[1;31m:\u001b[0m invalid syntax\n"
     ]
    }
   ],
   "source": [
    "id = \"ЖИЁ\"\n",
    "\n",
    "if id != 영어:\n",
    "    영어를 쓰시오.\n",
    "else:\n",
    "    if len(id) < 6 and len(id) > 1 :\n",
    "        진행하세요.\n",
    "    else:\n",
    "        아이디가 잘못됐습니다."
   ]
  },
  {
   "cell_type": "code",
   "execution_count": null,
   "id": "187e6817-2f29-4ae8-9dca-812913357db3",
   "metadata": {},
   "outputs": [],
   "source": []
  }
 ],
 "metadata": {
  "kernelspec": {
   "display_name": "Python 3 (ipykernel)",
   "language": "python",
   "name": "python3"
  },
  "language_info": {
   "codemirror_mode": {
    "name": "ipython",
    "version": 3
   },
   "file_extension": ".py",
   "mimetype": "text/x-python",
   "name": "python",
   "nbconvert_exporter": "python",
   "pygments_lexer": "ipython3",
   "version": "3.9.13"
  }
 },
 "nbformat": 4,
 "nbformat_minor": 5
}
