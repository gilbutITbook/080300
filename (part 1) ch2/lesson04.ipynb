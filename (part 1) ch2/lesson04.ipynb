{
 "cells": [
  {
   "cell_type": "code",
   "execution_count": 4,
   "id": "520bbeda-fb21-430e-b921-1e44b19111a0",
   "metadata": {
    "tags": []
   },
   "outputs": [
    {
     "name": "stdout",
     "output_type": "stream",
     "text": [
      "10\n"
     ]
    }
   ],
   "source": [
    "print(5 + 5)"
   ]
  },
  {
   "cell_type": "code",
   "execution_count": 5,
   "id": "441e072d-9d82-49a3-ba57-4ce8f1e0d74f",
   "metadata": {},
   "outputs": [
    {
     "name": "stdout",
     "output_type": "stream",
     "text": [
      "python gunny\n"
     ]
    }
   ],
   "source": [
    "print(\"python \" + \"gunny\")"
   ]
  },
  {
   "cell_type": "code",
   "execution_count": 6,
   "id": "1b058e0b-d3a5-43a5-bb49-0878b83b1de1",
   "metadata": {},
   "outputs": [
    {
     "name": "stdout",
     "output_type": "stream",
     "text": [
      "3\n"
     ]
    }
   ],
   "source": [
    "print(5 - 2)"
   ]
  },
  {
   "cell_type": "code",
   "execution_count": 7,
   "id": "d2dd6f84-2c1a-4249-ac0e-b62deb911d73",
   "metadata": {},
   "outputs": [
    {
     "name": "stdout",
     "output_type": "stream",
     "text": [
      "25\n"
     ]
    }
   ],
   "source": [
    "print(5 * 5)"
   ]
  },
  {
   "cell_type": "code",
   "execution_count": 8,
   "id": "2c3e2e37-0447-4f70-b519-83e954ed9fdd",
   "metadata": {},
   "outputs": [
    {
     "name": "stdout",
     "output_type": "stream",
     "text": [
      "gunny gunny gunny gunny gunny \n"
     ]
    }
   ],
   "source": [
    "print(\"gunny \" * 5)"
   ]
  },
  {
   "cell_type": "code",
   "execution_count": 9,
   "id": "59d66dde-5c6f-4a3c-9177-1ea03cca01ce",
   "metadata": {},
   "outputs": [
    {
     "name": "stdout",
     "output_type": "stream",
     "text": [
      "1.0\n"
     ]
    }
   ],
   "source": [
    "print(5 / 5)"
   ]
  },
  {
   "cell_type": "code",
   "execution_count": 10,
   "id": "beed1d3d-5494-4c71-a308-bdcf73b0cea4",
   "metadata": {},
   "outputs": [
    {
     "name": "stdout",
     "output_type": "stream",
     "text": [
      "2.5\n"
     ]
    }
   ],
   "source": [
    "print(5 / 2)"
   ]
  },
  {
   "cell_type": "code",
   "execution_count": 11,
   "id": "eac7bc66-1aa5-4f53-9a01-c625bdfab794",
   "metadata": {},
   "outputs": [
    {
     "name": "stdout",
     "output_type": "stream",
     "text": [
      "<class 'float'>\n"
     ]
    }
   ],
   "source": [
    "print(type(5 / 2))"
   ]
  },
  {
   "cell_type": "code",
   "execution_count": 12,
   "id": "4af53df7-6dec-4419-94d4-c7e2d40dc429",
   "metadata": {},
   "outputs": [
    {
     "name": "stdout",
     "output_type": "stream",
     "text": [
      "2\n"
     ]
    }
   ],
   "source": [
    "print(5 // 2)"
   ]
  },
  {
   "cell_type": "code",
   "execution_count": 13,
   "id": "26e5470a-f340-4405-8c19-f7da86bceeac",
   "metadata": {},
   "outputs": [
    {
     "name": "stdout",
     "output_type": "stream",
     "text": [
      "<class 'int'>\n"
     ]
    }
   ],
   "source": [
    "print(type(5 // 2))"
   ]
  },
  {
   "cell_type": "code",
   "execution_count": 14,
   "id": "60224224-c16f-4b11-85ed-6ff176b1c19d",
   "metadata": {},
   "outputs": [
    {
     "name": "stdout",
     "output_type": "stream",
     "text": [
      "2.0\n"
     ]
    }
   ],
   "source": [
    "print(5.99 // 2)"
   ]
  },
  {
   "cell_type": "code",
   "execution_count": 15,
   "id": "49493987-5f34-4aac-83f3-d1f273f1eee7",
   "metadata": {},
   "outputs": [
    {
     "name": "stdout",
     "output_type": "stream",
     "text": [
      "2.995\n"
     ]
    }
   ],
   "source": [
    "print(5.99 / 2)"
   ]
  },
  {
   "cell_type": "code",
   "execution_count": 16,
   "id": "57f4f97e-cfab-4cab-83c8-cb21046fe3f1",
   "metadata": {},
   "outputs": [
    {
     "name": "stdout",
     "output_type": "stream",
     "text": [
      "1\n"
     ]
    }
   ],
   "source": [
    "print(5 % 2)"
   ]
  },
  {
   "cell_type": "code",
   "execution_count": 17,
   "id": "369a3d10-84e6-4087-b7a8-ad8da3928166",
   "metadata": {},
   "outputs": [
    {
     "name": "stdout",
     "output_type": "stream",
     "text": [
      "2\n"
     ]
    }
   ],
   "source": [
    "print(7 % 5)"
   ]
  },
  {
   "cell_type": "code",
   "execution_count": 18,
   "id": "841d2301-d651-4a8d-b8c8-770602ebf7e0",
   "metadata": {},
   "outputs": [
    {
     "name": "stdout",
     "output_type": "stream",
     "text": [
      "23\n"
     ]
    }
   ],
   "source": [
    "print(2023 % 100)"
   ]
  },
  {
   "cell_type": "code",
   "execution_count": 19,
   "id": "b7a07efc-1a86-43c0-8d68-6901401952c3",
   "metadata": {},
   "outputs": [
    {
     "name": "stdout",
     "output_type": "stream",
     "text": [
      "20.23\n"
     ]
    }
   ],
   "source": [
    "print(2023 / 100)"
   ]
  },
  {
   "cell_type": "code",
   "execution_count": 20,
   "id": "15deeb12-2979-4c41-9e9e-405883bd3f38",
   "metadata": {},
   "outputs": [
    {
     "name": "stdout",
     "output_type": "stream",
     "text": [
      "20\n"
     ]
    }
   ],
   "source": [
    "print(2023 // 100)"
   ]
  },
  {
   "cell_type": "code",
   "execution_count": 21,
   "id": "f93d0cfd-8db6-40de-abdc-e18c1c12e513",
   "metadata": {},
   "outputs": [
    {
     "name": "stdout",
     "output_type": "stream",
     "text": [
      "123458888\n"
     ]
    }
   ],
   "source": [
    "print(12345888812345 // 100000)"
   ]
  },
  {
   "cell_type": "code",
   "execution_count": 22,
   "id": "630937a4-3187-429b-8869-8d19f9d932e3",
   "metadata": {},
   "outputs": [
    {
     "name": "stdout",
     "output_type": "stream",
     "text": [
      "8888\n"
     ]
    }
   ],
   "source": [
    "print((12345888812345 // 100000) % 10000)"
   ]
  },
  {
   "cell_type": "code",
   "execution_count": 23,
   "id": "2394cdf2-a181-451c-b412-7638460aa9f6",
   "metadata": {},
   "outputs": [
    {
     "name": "stdout",
     "output_type": "stream",
     "text": [
      "8\n"
     ]
    }
   ],
   "source": [
    "print(2 ** 3)"
   ]
  },
  {
   "cell_type": "code",
   "execution_count": 24,
   "id": "d5f7353d-dea9-48d0-92aa-66553989d1f1",
   "metadata": {},
   "outputs": [
    {
     "name": "stdout",
     "output_type": "stream",
     "text": [
      "8.0\n"
     ]
    }
   ],
   "source": [
    "print(2.0 ** 3)"
   ]
  },
  {
   "cell_type": "code",
   "execution_count": null,
   "id": "299bc820-488c-405b-853d-baa74260ff71",
   "metadata": {
    "tags": []
   },
   "outputs": [],
   "source": []
  }
 ],
 "metadata": {
  "kernelspec": {
   "display_name": "Python 3 (ipykernel)",
   "language": "python",
   "name": "python3"
  },
  "language_info": {
   "codemirror_mode": {
    "name": "ipython",
    "version": 3
   },
   "file_extension": ".py",
   "mimetype": "text/x-python",
   "name": "python",
   "nbconvert_exporter": "python",
   "pygments_lexer": "ipython3",
   "version": "3.9.13"
  }
 },
 "nbformat": 4,
 "nbformat_minor": 5
}
