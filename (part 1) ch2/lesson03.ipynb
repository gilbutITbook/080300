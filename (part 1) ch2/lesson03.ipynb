{
 "cells": [
  {
   "cell_type": "code",
   "execution_count": 7,
   "id": "90920208-bf46-472a-a2e9-ade0e9cd68e2",
   "metadata": {},
   "outputs": [
    {
     "data": {
      "text/plain": [
       "int"
      ]
     },
     "execution_count": 7,
     "metadata": {},
     "output_type": "execute_result"
    }
   ],
   "source": [
    "type(10)"
   ]
  },
  {
   "cell_type": "code",
   "execution_count": 8,
   "id": "9e3c4954-18f9-4c1c-aa00-7e075741de04",
   "metadata": {},
   "outputs": [
    {
     "data": {
      "text/plain": [
       "float"
      ]
     },
     "execution_count": 8,
     "metadata": {},
     "output_type": "execute_result"
    }
   ],
   "source": [
    "type(10.7)"
   ]
  },
  {
   "cell_type": "code",
   "execution_count": 9,
   "id": "0637f3a6-6e45-48c4-8f6e-159abbc5e1c6",
   "metadata": {},
   "outputs": [
    {
     "data": {
      "text/plain": [
       "str"
      ]
     },
     "execution_count": 9,
     "metadata": {},
     "output_type": "execute_result"
    }
   ],
   "source": [
    "type('a')"
   ]
  },
  {
   "cell_type": "code",
   "execution_count": 10,
   "id": "e32304c1-c7ea-4fa3-97e5-1425351a76ab",
   "metadata": {},
   "outputs": [
    {
     "data": {
      "text/plain": [
       "str"
      ]
     },
     "execution_count": 10,
     "metadata": {},
     "output_type": "execute_result"
    }
   ],
   "source": [
    "type('asdjk')"
   ]
  },
  {
   "cell_type": "code",
   "execution_count": 11,
   "id": "a3951ab5-a99a-4e49-b331-081dd49f8dee",
   "metadata": {},
   "outputs": [
    {
     "name": "stdout",
     "output_type": "stream",
     "text": [
      "나는 \"전설\"이다\n",
      "나는 '전설'이다\n"
     ]
    }
   ],
   "source": [
    "print('나는 \"전설\"이다')\n",
    "print(\"나는 '전설'이다\")"
   ]
  },
  {
   "cell_type": "code",
   "execution_count": 12,
   "id": "faeca56f-9080-47da-b311-36203b8de6f5",
   "metadata": {},
   "outputs": [
    {
     "data": {
      "text/plain": [
       "int"
      ]
     },
     "execution_count": 12,
     "metadata": {},
     "output_type": "execute_result"
    }
   ],
   "source": [
    "type(5)"
   ]
  },
  {
   "cell_type": "code",
   "execution_count": 13,
   "id": "1c284302-7b74-48ec-a8e0-e4682ceeab86",
   "metadata": {},
   "outputs": [
    {
     "data": {
      "text/plain": [
       "str"
      ]
     },
     "execution_count": 13,
     "metadata": {},
     "output_type": "execute_result"
    }
   ],
   "source": [
    "type(\"5\")"
   ]
  },
  {
   "cell_type": "code",
   "execution_count": 14,
   "id": "dacdcecb-e3c4-4cdd-aa6c-a5e0adaf6635",
   "metadata": {},
   "outputs": [
    {
     "name": "stdout",
     "output_type": "stream",
     "text": [
      "Hello World\n"
     ]
    }
   ],
   "source": [
    "print(\"Hello World\")"
   ]
  },
  {
   "cell_type": "code",
   "execution_count": 15,
   "id": "a2be2ac3-3ac3-4cf7-9d44-2096c075a8dc",
   "metadata": {},
   "outputs": [
    {
     "name": "stdout",
     "output_type": "stream",
     "text": [
      "HelloWorld\n",
      "Hello World\n",
      "10\n"
     ]
    }
   ],
   "source": [
    "print(\"Hello\" + \"World\")\n",
    "print(\"Hello\" + \" World\")\n",
    "print(5 + 5)"
   ]
  },
  {
   "cell_type": "code",
   "execution_count": 16,
   "id": "c9241fb3-71a1-4266-9a17-8541614c887e",
   "metadata": {},
   "outputs": [
    {
     "name": "stdout",
     "output_type": "stream",
     "text": [
      "Hello5\n"
     ]
    }
   ],
   "source": [
    "print(\"Hello\" + \"5\")"
   ]
  },
  {
   "cell_type": "code",
   "execution_count": 17,
   "id": "b7f222fc-ffbe-4308-b022-dcc74c2a834c",
   "metadata": {},
   "outputs": [
    {
     "name": "stdout",
     "output_type": "stream",
     "text": [
      "Hello5\n"
     ]
    }
   ],
   "source": [
    "print(\"Hello\" + str(5))"
   ]
  },
  {
   "cell_type": "code",
   "execution_count": 18,
   "id": "e2aa95af-a3de-4314-8512-b8f8d71fa7c3",
   "metadata": {},
   "outputs": [
    {
     "name": "stdout",
     "output_type": "stream",
     "text": [
      "15\n"
     ]
    }
   ],
   "source": [
    "print(int(\"5\") + 10)"
   ]
  },
  {
   "cell_type": "code",
   "execution_count": 19,
   "id": "7ba2ada1-a9a1-488c-b116-5f624e90d376",
   "metadata": {},
   "outputs": [
    {
     "name": "stdout",
     "output_type": "stream",
     "text": [
      "510\n"
     ]
    }
   ],
   "source": [
    "print(\"5\" + \"10\")"
   ]
  },
  {
   "cell_type": "code",
   "execution_count": 20,
   "id": "4803ff99-a86b-4f1e-b484-423b22ce930c",
   "metadata": {},
   "outputs": [
    {
     "name": "stdout",
     "output_type": "stream",
     "text": [
      "<class 'str'>\n"
     ]
    }
   ],
   "source": [
    "print(type(\"5\" + \"10\"))"
   ]
  },
  {
   "cell_type": "code",
   "execution_count": 21,
   "id": "9d77d186-1a69-4269-9731-0955126e6993",
   "metadata": {},
   "outputs": [
    {
     "name": "stdout",
     "output_type": "stream",
     "text": [
      "<class 'int'>\n"
     ]
    }
   ],
   "source": [
    "print(type(int(\"5\") + 10))"
   ]
  },
  {
   "cell_type": "code",
   "execution_count": null,
   "id": "b0997954-4173-4d53-90ad-552dfdbae404",
   "metadata": {},
   "outputs": [],
   "source": []
  }
 ],
 "metadata": {
  "kernelspec": {
   "display_name": "Python 3 (ipykernel)",
   "language": "python",
   "name": "python3"
  },
  "language_info": {
   "codemirror_mode": {
    "name": "ipython",
    "version": 3
   },
   "file_extension": ".py",
   "mimetype": "text/x-python",
   "name": "python",
   "nbconvert_exporter": "python",
   "pygments_lexer": "ipython3",
   "version": "3.9.13"
  }
 },
 "nbformat": 4,
 "nbformat_minor": 5
}
