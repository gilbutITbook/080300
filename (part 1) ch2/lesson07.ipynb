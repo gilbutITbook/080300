{
 "cells": [
  {
   "cell_type": "code",
   "execution_count": 1,
   "id": "87fbbaee-ec52-415c-baa6-1c25662a5e64",
   "metadata": {},
   "outputs": [
    {
     "data": {
      "text/plain": [
       "bool"
      ]
     },
     "execution_count": 1,
     "metadata": {},
     "output_type": "execute_result"
    }
   ],
   "source": [
    "type(True)"
   ]
  },
  {
   "cell_type": "code",
   "execution_count": 2,
   "id": "58e65b57-dc79-43f2-9e8d-97c1e1797cb5",
   "metadata": {},
   "outputs": [
    {
     "data": {
      "text/plain": [
       "True"
      ]
     },
     "execution_count": 2,
     "metadata": {},
     "output_type": "execute_result"
    }
   ],
   "source": [
    "5 == 5"
   ]
  },
  {
   "cell_type": "code",
   "execution_count": 3,
   "id": "9b5918f7-45f5-44be-a953-59afe8d253cf",
   "metadata": {},
   "outputs": [
    {
     "data": {
      "text/plain": [
       "False"
      ]
     },
     "execution_count": 3,
     "metadata": {},
     "output_type": "execute_result"
    }
   ],
   "source": [
    "5 == 6"
   ]
  },
  {
   "cell_type": "code",
   "execution_count": 4,
   "id": "139d92c5-3931-4687-9fcd-624c58ab6e0d",
   "metadata": {},
   "outputs": [
    {
     "data": {
      "text/plain": [
       "True"
      ]
     },
     "execution_count": 4,
     "metadata": {},
     "output_type": "execute_result"
    }
   ],
   "source": [
    "'hello' == 'hello'"
   ]
  },
  {
   "cell_type": "code",
   "execution_count": 5,
   "id": "426b484e-5e88-4f23-a74f-10f30fd24afc",
   "metadata": {},
   "outputs": [
    {
     "data": {
      "text/plain": [
       "False"
      ]
     },
     "execution_count": 5,
     "metadata": {},
     "output_type": "execute_result"
    }
   ],
   "source": [
    "6 == '6'"
   ]
  },
  {
   "cell_type": "code",
   "execution_count": 6,
   "id": "95ae652b-8e35-4c3e-9368-6fb2eb17e0ff",
   "metadata": {},
   "outputs": [
    {
     "data": {
      "text/plain": [
       "True"
      ]
     },
     "execution_count": 6,
     "metadata": {},
     "output_type": "execute_result"
    }
   ],
   "source": [
    "str(6) == '6'"
   ]
  },
  {
   "cell_type": "code",
   "execution_count": 7,
   "id": "3894f040-8541-48dc-b86e-61a96b7d70d3",
   "metadata": {},
   "outputs": [
    {
     "data": {
      "text/plain": [
       "False"
      ]
     },
     "execution_count": 7,
     "metadata": {},
     "output_type": "execute_result"
    }
   ],
   "source": [
    "5 != 5"
   ]
  },
  {
   "cell_type": "code",
   "execution_count": 8,
   "id": "f417c2dd-4f88-458d-b6db-c9a3272f7fd2",
   "metadata": {},
   "outputs": [
    {
     "data": {
      "text/plain": [
       "True"
      ]
     },
     "execution_count": 8,
     "metadata": {},
     "output_type": "execute_result"
    }
   ],
   "source": [
    "5 != 6"
   ]
  },
  {
   "cell_type": "code",
   "execution_count": 9,
   "id": "945ea346-3df5-4fcf-a8d5-339d92a57003",
   "metadata": {},
   "outputs": [
    {
     "data": {
      "text/plain": [
       "True"
      ]
     },
     "execution_count": 9,
     "metadata": {},
     "output_type": "execute_result"
    }
   ],
   "source": [
    "5 < 6"
   ]
  },
  {
   "cell_type": "code",
   "execution_count": 10,
   "id": "218a5b1e-7eb5-49b9-b0e2-3288e8660ffc",
   "metadata": {},
   "outputs": [
    {
     "data": {
      "text/plain": [
       "True"
      ]
     },
     "execution_count": 10,
     "metadata": {},
     "output_type": "execute_result"
    }
   ],
   "source": [
    "5 <= 6"
   ]
  },
  {
   "cell_type": "code",
   "execution_count": 11,
   "id": "e86df54f-672b-47d9-9134-e7faa5f0d74c",
   "metadata": {},
   "outputs": [
    {
     "data": {
      "text/plain": [
       "True"
      ]
     },
     "execution_count": 11,
     "metadata": {},
     "output_type": "execute_result"
    }
   ],
   "source": [
    "5 <= 5"
   ]
  },
  {
   "cell_type": "code",
   "execution_count": 12,
   "id": "28756320-87da-4799-bedb-b3cf961f64ac",
   "metadata": {},
   "outputs": [
    {
     "data": {
      "text/plain": [
       "5"
      ]
     },
     "execution_count": 12,
     "metadata": {},
     "output_type": "execute_result"
    }
   ],
   "source": [
    "id = \"abcde\"\n",
    "pw = \"12345\"\n",
    "\n",
    "len(id)"
   ]
  },
  {
   "cell_type": "code",
   "execution_count": 13,
   "id": "d2960882-cdf4-4e72-8810-970b82db5247",
   "metadata": {},
   "outputs": [
    {
     "data": {
      "text/plain": [
       "True"
      ]
     },
     "execution_count": 13,
     "metadata": {},
     "output_type": "execute_result"
    }
   ],
   "source": [
    "id = \"abcde\"\n",
    "pw = \"12345\"\n",
    "\n",
    "len(id) < 6"
   ]
  },
  {
   "cell_type": "code",
   "execution_count": 14,
   "id": "58fc59b3-2add-4ebf-b1b1-86bf0ef6f125",
   "metadata": {},
   "outputs": [
    {
     "data": {
      "text/plain": [
       "True"
      ]
     },
     "execution_count": 14,
     "metadata": {},
     "output_type": "execute_result"
    }
   ],
   "source": [
    "id = \"abcde\"\n",
    "pw = \"12345\"\n",
    "\n",
    "len(id) < 6 and len(pw) < 6\n",
    "# (len(id) < 6) and (len(pw) < 6) 보기 편하게 괄호를 넣어줄 수도 있습니다"
   ]
  },
  {
   "cell_type": "code",
   "execution_count": 15,
   "id": "0cec99b4-1362-4f7b-a2f3-ed754c4328e6",
   "metadata": {},
   "outputs": [
    {
     "data": {
      "text/plain": [
       "False"
      ]
     },
     "execution_count": 15,
     "metadata": {},
     "output_type": "execute_result"
    }
   ],
   "source": [
    "id = \"abcdef\"\n",
    "pw = \"12345\"\n",
    "\n",
    "len(id) < 6 and len(pw) < 6"
   ]
  },
  {
   "cell_type": "code",
   "execution_count": 16,
   "id": "c9a8134b-e875-46f6-b6e1-d8fde756b24b",
   "metadata": {},
   "outputs": [
    {
     "data": {
      "text/plain": [
       "True"
      ]
     },
     "execution_count": 16,
     "metadata": {},
     "output_type": "execute_result"
    }
   ],
   "source": [
    "id = \"abcdef\"\n",
    "pw = \"12345\"\n",
    "\n",
    "len(id) < 6 or len(pw) < 6"
   ]
  },
  {
   "cell_type": "code",
   "execution_count": 17,
   "id": "d623c5e4-ed6a-4175-b99c-b8e068ee6526",
   "metadata": {},
   "outputs": [
    {
     "data": {
      "text/plain": [
       "False"
      ]
     },
     "execution_count": 17,
     "metadata": {},
     "output_type": "execute_result"
    }
   ],
   "source": [
    "1 > 2 or 2 > 3"
   ]
  },
  {
   "cell_type": "code",
   "execution_count": 18,
   "id": "f9fbe7a6-59f5-49ee-8537-d07505a8d2dc",
   "metadata": {},
   "outputs": [
    {
     "data": {
      "text/plain": [
       "True"
      ]
     },
     "execution_count": 18,
     "metadata": {},
     "output_type": "execute_result"
    }
   ],
   "source": [
    "1 > 2 or 2 > 3 or 3 > 2"
   ]
  },
  {
   "cell_type": "code",
   "execution_count": 19,
   "id": "59408fb8-9d59-43f2-afba-02c583a9c803",
   "metadata": {},
   "outputs": [
    {
     "data": {
      "text/plain": [
       "False"
      ]
     },
     "execution_count": 19,
     "metadata": {},
     "output_type": "execute_result"
    }
   ],
   "source": [
    "1 > 2 and 2 > 3 and 3 > 2"
   ]
  },
  {
   "cell_type": "code",
   "execution_count": 20,
   "id": "16d1535b-6405-4268-9061-9d4a74a42988",
   "metadata": {},
   "outputs": [
    {
     "data": {
      "text/plain": [
       "True"
      ]
     },
     "execution_count": 20,
     "metadata": {},
     "output_type": "execute_result"
    }
   ],
   "source": [
    "6 > 2 and 8 > 3 and 3 > 2"
   ]
  },
  {
   "cell_type": "code",
   "execution_count": 21,
   "id": "6df70158-ec02-459a-b691-4ec1510f8e80",
   "metadata": {},
   "outputs": [
    {
     "data": {
      "text/plain": [
       "False"
      ]
     },
     "execution_count": 21,
     "metadata": {},
     "output_type": "execute_result"
    }
   ],
   "source": [
    "1 > 2"
   ]
  },
  {
   "cell_type": "code",
   "execution_count": 22,
   "id": "f3228e49-213e-42f9-813b-ca6cf42b313b",
   "metadata": {},
   "outputs": [
    {
     "data": {
      "text/plain": [
       "True"
      ]
     },
     "execution_count": 22,
     "metadata": {},
     "output_type": "execute_result"
    }
   ],
   "source": [
    "not 1 > 2"
   ]
  },
  {
   "cell_type": "code",
   "execution_count": 23,
   "id": "25d48bf2-65df-4cf3-96fb-d91b315356a8",
   "metadata": {},
   "outputs": [
    {
     "data": {
      "text/plain": [
       "False"
      ]
     },
     "execution_count": 23,
     "metadata": {},
     "output_type": "execute_result"
    }
   ],
   "source": [
    "not 'hello' == 'hello'"
   ]
  },
  {
   "cell_type": "code",
   "execution_count": null,
   "id": "78568a4c-edd9-45ee-8dce-c2453212a3ce",
   "metadata": {},
   "outputs": [],
   "source": []
  }
 ],
 "metadata": {
  "kernelspec": {
   "display_name": "Python 3 (ipykernel)",
   "language": "python",
   "name": "python3"
  },
  "language_info": {
   "codemirror_mode": {
    "name": "ipython",
    "version": 3
   },
   "file_extension": ".py",
   "mimetype": "text/x-python",
   "name": "python",
   "nbconvert_exporter": "python",
   "pygments_lexer": "ipython3",
   "version": "3.9.13"
  }
 },
 "nbformat": 4,
 "nbformat_minor": 5
}
